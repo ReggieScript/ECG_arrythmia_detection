{
  "cells": [
    {
      "cell_type": "code",
      "execution_count": 1,
      "metadata": {
        "colab": {
          "base_uri": "https://localhost:8080/"
        },
        "id": "UChu9QdifPUe",
        "outputId": "571af74f-cd5e-4f6f-a227-c302271473db"
      },
      "outputs": [],
      "source": [
        "import pandas as pd\n",
        "import numpy as np\n",
        "import scipy as sci\n",
        "from scipy import signal\n",
        "import matplotlib.pyplot as plt\n",
        "from sklearn import model_selection\n",
        "import sklearn\n",
        "import seaborn as sns\n",
        "import pickle"
      ]
    },
    {
      "cell_type": "code",
      "execution_count": null,
      "metadata": {
        "id": "K2THdMZfimJG"
      },
      "outputs": [],
      "source": [
        "# data_ar = pd.read_csv(\"/content/drive/Shareddrives/Proyecto Final/Progra/final_data_ARREGLADA.csv\")"
      ]
    },
    {
      "cell_type": "code",
      "execution_count": 3,
      "metadata": {
        "id": "ESYlcEOLgrF-"
      },
      "outputs": [],
      "source": [
        "data = pd.read_csv(r\"G:\\Shared drives\\Proyecto Final\\Progra\\neuropy_data.csv\")"
      ]
    },
    {
      "cell_type": "code",
      "execution_count": 4,
      "metadata": {
        "id": "iCuD5BhejTfQ"
      },
      "outputs": [],
      "source": [
        "# full_data = pd.concat([data,data_ar], axis=0)\n",
        "full_data = data"
      ]
    },
    {
      "cell_type": "code",
      "execution_count": 5,
      "metadata": {
        "colab": {
          "base_uri": "https://localhost:8080/",
          "height": 1000
        },
        "id": "IW285vE0LKFi",
        "outputId": "b725fee1-8ddd-4fe3-fef0-4ba3c2de28d2"
      },
      "outputs": [
        {
          "data": {
            "text/html": [
              "<div>\n",
              "<style scoped>\n",
              "    .dataframe tbody tr th:only-of-type {\n",
              "        vertical-align: middle;\n",
              "    }\n",
              "\n",
              "    .dataframe tbody tr th {\n",
              "        vertical-align: top;\n",
              "    }\n",
              "\n",
              "    .dataframe thead th {\n",
              "        text-align: right;\n",
              "    }\n",
              "</style>\n",
              "<table border=\"1\" class=\"dataframe\">\n",
              "  <thead>\n",
              "    <tr style=\"text-align: right;\">\n",
              "      <th></th>\n",
              "      <th>Unnamed: 0</th>\n",
              "      <th>raw_data</th>\n",
              "      <th>ecg_signals</th>\n",
              "      <th>info</th>\n",
              "      <th>hrv_time</th>\n",
              "      <th>HRV_MeanNN</th>\n",
              "      <th>HRV_SDNN</th>\n",
              "      <th>HRV_RMSSD</th>\n",
              "      <th>HRV_SDSD</th>\n",
              "      <th>HRV_CVNN</th>\n",
              "      <th>...</th>\n",
              "      <th>ECG_P_Peaks</th>\n",
              "      <th>ECG_Q_Peaks</th>\n",
              "      <th>ECG_S_Peaks</th>\n",
              "      <th>ECG_T_Peaks</th>\n",
              "      <th>ECG_R_Peaks</th>\n",
              "      <th>mean_quality</th>\n",
              "      <th>age</th>\n",
              "      <th>female</th>\n",
              "      <th>male</th>\n",
              "      <th>arrythmia</th>\n",
              "    </tr>\n",
              "  </thead>\n",
              "  <tbody>\n",
              "    <tr>\n",
              "      <th>0</th>\n",
              "      <td>100</td>\n",
              "      <td>&lt;wfdb.io.record.Record object at 0x7f3f9b1f6a10&gt;</td>\n",
              "      <td>ECG_Raw  ECG_Clean   ECG_Rate   ECG_Qual...</td>\n",
              "      <td>{'ECG_R_Peaks': array([ 236,  527,  809, 1103,...</td>\n",
              "      <td>HRV_MeanNN   HRV_SDNN  HRV_SDANN1  HRV_SDNN...</td>\n",
              "      <td>805.555556</td>\n",
              "      <td>29.212926</td>\n",
              "      <td>28.067929</td>\n",
              "      <td>29.515114</td>\n",
              "      <td>0.036264</td>\n",
              "      <td>...</td>\n",
              "      <td>12</td>\n",
              "      <td>11</td>\n",
              "      <td>11</td>\n",
              "      <td>12</td>\n",
              "      <td>12</td>\n",
              "      <td>0.617106</td>\n",
              "      <td>69.0</td>\n",
              "      <td>0</td>\n",
              "      <td>1</td>\n",
              "      <td>1</td>\n",
              "    </tr>\n",
              "    <tr>\n",
              "      <th>1</th>\n",
              "      <td>1000</td>\n",
              "      <td>&lt;wfdb.io.record.Record object at 0x7f3f9b23b220&gt;</td>\n",
              "      <td>ECG_Raw  ECG_Clean   ECG_Rate  ECG_Quali...</td>\n",
              "      <td>{'ECG_R_Peaks': array([ 383,  691,  990, 1280,...</td>\n",
              "      <td>HRV_MeanNN   HRV_SDNN  HRV_SDANN1  HRV_SDNN...</td>\n",
              "      <td>806.060606</td>\n",
              "      <td>89.043426</td>\n",
              "      <td>142.101728</td>\n",
              "      <td>149.127550</td>\n",
              "      <td>0.110467</td>\n",
              "      <td>...</td>\n",
              "      <td>12</td>\n",
              "      <td>11</td>\n",
              "      <td>11</td>\n",
              "      <td>11</td>\n",
              "      <td>12</td>\n",
              "      <td>0.673991</td>\n",
              "      <td>69.0</td>\n",
              "      <td>0</td>\n",
              "      <td>1</td>\n",
              "      <td>1</td>\n",
              "    </tr>\n",
              "    <tr>\n",
              "      <th>2</th>\n",
              "      <td>101</td>\n",
              "      <td>&lt;wfdb.io.record.Record object at 0x7f3f9b257670&gt;</td>\n",
              "      <td>ECG_Raw  ECG_Clean   ECG_Rate  ECG_Quali...</td>\n",
              "      <td>{'ECG_R_Peaks': array([ 311,  686, 1054, 1422,...</td>\n",
              "      <td>HRV_MeanNN   HRV_SDNN  HRV_SDANN1  HRV_SDNN...</td>\n",
              "      <td>992.592593</td>\n",
              "      <td>50.288519</td>\n",
              "      <td>67.471988</td>\n",
              "      <td>70.425608</td>\n",
              "      <td>0.050664</td>\n",
              "      <td>...</td>\n",
              "      <td>10</td>\n",
              "      <td>9</td>\n",
              "      <td>9</td>\n",
              "      <td>9</td>\n",
              "      <td>10</td>\n",
              "      <td>0.643327</td>\n",
              "      <td>75.0</td>\n",
              "      <td>1</td>\n",
              "      <td>0</td>\n",
              "      <td>1</td>\n",
              "    </tr>\n",
              "    <tr>\n",
              "      <th>3</th>\n",
              "      <td>1011</td>\n",
              "      <td>&lt;wfdb.io.record.Record object at 0x7f3f9f52d3c0&gt;</td>\n",
              "      <td>ECG_Raw  ECG_Clean   ECG_Rate  ECG_Quali...</td>\n",
              "      <td>{'ECG_R_Peaks': array([ 385,  753, 1103, 1457,...</td>\n",
              "      <td>HRV_MeanNN   HRV_SDNN  HRV_SDANN1  HRV_SDN...</td>\n",
              "      <td>1015.277778</td>\n",
              "      <td>27.297434</td>\n",
              "      <td>28.560404</td>\n",
              "      <td>30.801082</td>\n",
              "      <td>0.026887</td>\n",
              "      <td>...</td>\n",
              "      <td>9</td>\n",
              "      <td>8</td>\n",
              "      <td>8</td>\n",
              "      <td>9</td>\n",
              "      <td>9</td>\n",
              "      <td>0.413333</td>\n",
              "      <td>75.0</td>\n",
              "      <td>1</td>\n",
              "      <td>0</td>\n",
              "      <td>1</td>\n",
              "    </tr>\n",
              "    <tr>\n",
              "      <th>4</th>\n",
              "      <td>102</td>\n",
              "      <td>&lt;wfdb.io.record.Record object at 0x7f3f9b1f43a0&gt;</td>\n",
              "      <td>ECG_Raw  ECG_Clean   ECG_Rate   ECG_Qual...</td>\n",
              "      <td>{'ECG_R_Peaks': array([ 272,  549,  825, 1108,...</td>\n",
              "      <td>HRV_MeanNN   HRV_SDNN  HRV_SDANN1  HRV_SDNN...</td>\n",
              "      <td>791.414141</td>\n",
              "      <td>27.818152</td>\n",
              "      <td>24.767437</td>\n",
              "      <td>25.973831</td>\n",
              "      <td>0.035150</td>\n",
              "      <td>...</td>\n",
              "      <td>5</td>\n",
              "      <td>9</td>\n",
              "      <td>11</td>\n",
              "      <td>8</td>\n",
              "      <td>12</td>\n",
              "      <td>0.668521</td>\n",
              "      <td>84.0</td>\n",
              "      <td>1</td>\n",
              "      <td>0</td>\n",
              "      <td>1</td>\n",
              "    </tr>\n",
              "    <tr>\n",
              "      <th>...</th>\n",
              "      <td>...</td>\n",
              "      <td>...</td>\n",
              "      <td>...</td>\n",
              "      <td>...</td>\n",
              "      <td>...</td>\n",
              "      <td>...</td>\n",
              "      <td>...</td>\n",
              "      <td>...</td>\n",
              "      <td>...</td>\n",
              "      <td>...</td>\n",
              "      <td>...</td>\n",
              "      <td>...</td>\n",
              "      <td>...</td>\n",
              "      <td>...</td>\n",
              "      <td>...</td>\n",
              "      <td>...</td>\n",
              "      <td>...</td>\n",
              "      <td>...</td>\n",
              "      <td>...</td>\n",
              "      <td>...</td>\n",
              "      <td>...</td>\n",
              "    </tr>\n",
              "    <tr>\n",
              "      <th>94</th>\n",
              "      <td>patient267</td>\n",
              "      <td>&lt;wfdb.io.record.Record object at 0x7f3f9b222e90&gt;</td>\n",
              "      <td>ECG_Raw  ECG_Clean    ECG_Rate  ECG_Qual...</td>\n",
              "      <td>{'ECG_R_Peaks': array([ 690, 1015, 1403, 1792,...</td>\n",
              "      <td>HRV_MeanNN    HRV_SDNN  HRV_SDANN1  HRV_SDN...</td>\n",
              "      <td>534.941176</td>\n",
              "      <td>230.829339</td>\n",
              "      <td>448.150714</td>\n",
              "      <td>462.848063</td>\n",
              "      <td>0.431504</td>\n",
              "      <td>...</td>\n",
              "      <td>8</td>\n",
              "      <td>14</td>\n",
              "      <td>18</td>\n",
              "      <td>12</td>\n",
              "      <td>19</td>\n",
              "      <td>0.659709</td>\n",
              "      <td>67.0</td>\n",
              "      <td>1</td>\n",
              "      <td>0</td>\n",
              "      <td>0</td>\n",
              "    </tr>\n",
              "    <tr>\n",
              "      <th>95</th>\n",
              "      <td>patient276</td>\n",
              "      <td>&lt;wfdb.io.record.Record object at 0x7f3f9b223af0&gt;</td>\n",
              "      <td>ECG_Raw  ECG_Clean   ECG_Rate  ECG_Quali...</td>\n",
              "      <td>{'ECG_R_Peaks': array([ 433, 1241, 2058, 2878,...</td>\n",
              "      <td>HRV_MeanNN   HRV_SDNN  HRV_SDANN1  HRV_SDNN...</td>\n",
              "      <td>786.083333</td>\n",
              "      <td>23.302198</td>\n",
              "      <td>16.887327</td>\n",
              "      <td>17.637254</td>\n",
              "      <td>0.029643</td>\n",
              "      <td>...</td>\n",
              "      <td>13</td>\n",
              "      <td>12</td>\n",
              "      <td>12</td>\n",
              "      <td>12</td>\n",
              "      <td>13</td>\n",
              "      <td>0.532063</td>\n",
              "      <td>NaN</td>\n",
              "      <td>0</td>\n",
              "      <td>1</td>\n",
              "      <td>0</td>\n",
              "    </tr>\n",
              "    <tr>\n",
              "      <th>96</th>\n",
              "      <td>patient277</td>\n",
              "      <td>&lt;wfdb.io.record.Record object at 0x7f3f9b2234f0&gt;</td>\n",
              "      <td>ECG_Raw  ECG_Clean   ECG_Rate  ECG_Quali...</td>\n",
              "      <td>{'ECG_R_Peaks': array([1134, 2309, 3511, 4713,...</td>\n",
              "      <td>HRV_MeanNN   HRV_SDNN  HRV_SDANN1  HRV_SDN...</td>\n",
              "      <td>1215.714286</td>\n",
              "      <td>53.368887</td>\n",
              "      <td>72.005787</td>\n",
              "      <td>78.486729</td>\n",
              "      <td>0.043899</td>\n",
              "      <td>...</td>\n",
              "      <td>8</td>\n",
              "      <td>7</td>\n",
              "      <td>7</td>\n",
              "      <td>8</td>\n",
              "      <td>8</td>\n",
              "      <td>0.617563</td>\n",
              "      <td>NaN</td>\n",
              "      <td>0</td>\n",
              "      <td>1</td>\n",
              "      <td>0</td>\n",
              "    </tr>\n",
              "    <tr>\n",
              "      <th>97</th>\n",
              "      <td>patient279</td>\n",
              "      <td>&lt;wfdb.io.record.Record object at 0x7f3fd353ff70&gt;</td>\n",
              "      <td>ECG_Raw  ECG_Clean   ECG_Rate  ECG_Quali...</td>\n",
              "      <td>{'ECG_R_Peaks': array([ 891, 2214, 3570, 4935,...</td>\n",
              "      <td>HRV_MeanNN    HRV_SDNN  HRV_SDANN1  HRV_SD...</td>\n",
              "      <td>1269.857143</td>\n",
              "      <td>179.590672</td>\n",
              "      <td>211.833268</td>\n",
              "      <td>216.742858</td>\n",
              "      <td>0.141426</td>\n",
              "      <td>...</td>\n",
              "      <td>8</td>\n",
              "      <td>7</td>\n",
              "      <td>7</td>\n",
              "      <td>8</td>\n",
              "      <td>8</td>\n",
              "      <td>0.648553</td>\n",
              "      <td>35.0</td>\n",
              "      <td>1</td>\n",
              "      <td>0</td>\n",
              "      <td>0</td>\n",
              "    </tr>\n",
              "    <tr>\n",
              "      <th>98</th>\n",
              "      <td>patient284</td>\n",
              "      <td>&lt;wfdb.io.record.Record object at 0x7f3f9b1f4f10&gt;</td>\n",
              "      <td>ECG_Raw  ECG_Clean   ECG_Rate  ECG_Quali...</td>\n",
              "      <td>{'ECG_R_Peaks': array([ 303, 1129, 1949, 2775,...</td>\n",
              "      <td>HRV_MeanNN   HRV_SDNN  HRV_SDANN1  HRV_SDNN...</td>\n",
              "      <td>845.636364</td>\n",
              "      <td>18.709745</td>\n",
              "      <td>15.056560</td>\n",
              "      <td>15.862254</td>\n",
              "      <td>0.022125</td>\n",
              "      <td>...</td>\n",
              "      <td>11</td>\n",
              "      <td>11</td>\n",
              "      <td>11</td>\n",
              "      <td>12</td>\n",
              "      <td>12</td>\n",
              "      <td>0.664610</td>\n",
              "      <td>48.0</td>\n",
              "      <td>0</td>\n",
              "      <td>1</td>\n",
              "      <td>0</td>\n",
              "    </tr>\n",
              "  </tbody>\n",
              "</table>\n",
              "<p>99 rows × 33 columns</p>\n",
              "</div>"
            ],
            "text/plain": [
              "    Unnamed: 0                                          raw_data  \\\n",
              "0          100  <wfdb.io.record.Record object at 0x7f3f9b1f6a10>   \n",
              "1         1000  <wfdb.io.record.Record object at 0x7f3f9b23b220>   \n",
              "2          101  <wfdb.io.record.Record object at 0x7f3f9b257670>   \n",
              "3         1011  <wfdb.io.record.Record object at 0x7f3f9f52d3c0>   \n",
              "4          102  <wfdb.io.record.Record object at 0x7f3f9b1f43a0>   \n",
              "..         ...                                               ...   \n",
              "94  patient267  <wfdb.io.record.Record object at 0x7f3f9b222e90>   \n",
              "95  patient276  <wfdb.io.record.Record object at 0x7f3f9b223af0>   \n",
              "96  patient277  <wfdb.io.record.Record object at 0x7f3f9b2234f0>   \n",
              "97  patient279  <wfdb.io.record.Record object at 0x7f3fd353ff70>   \n",
              "98  patient284  <wfdb.io.record.Record object at 0x7f3f9b1f4f10>   \n",
              "\n",
              "                                          ecg_signals  \\\n",
              "0         ECG_Raw  ECG_Clean   ECG_Rate   ECG_Qual...   \n",
              "1         ECG_Raw  ECG_Clean   ECG_Rate  ECG_Quali...   \n",
              "2         ECG_Raw  ECG_Clean   ECG_Rate  ECG_Quali...   \n",
              "3         ECG_Raw  ECG_Clean   ECG_Rate  ECG_Quali...   \n",
              "4         ECG_Raw  ECG_Clean   ECG_Rate   ECG_Qual...   \n",
              "..                                                ...   \n",
              "94        ECG_Raw  ECG_Clean    ECG_Rate  ECG_Qual...   \n",
              "95        ECG_Raw  ECG_Clean   ECG_Rate  ECG_Quali...   \n",
              "96        ECG_Raw  ECG_Clean   ECG_Rate  ECG_Quali...   \n",
              "97        ECG_Raw  ECG_Clean   ECG_Rate  ECG_Quali...   \n",
              "98        ECG_Raw  ECG_Clean   ECG_Rate  ECG_Quali...   \n",
              "\n",
              "                                                 info  \\\n",
              "0   {'ECG_R_Peaks': array([ 236,  527,  809, 1103,...   \n",
              "1   {'ECG_R_Peaks': array([ 383,  691,  990, 1280,...   \n",
              "2   {'ECG_R_Peaks': array([ 311,  686, 1054, 1422,...   \n",
              "3   {'ECG_R_Peaks': array([ 385,  753, 1103, 1457,...   \n",
              "4   {'ECG_R_Peaks': array([ 272,  549,  825, 1108,...   \n",
              "..                                                ...   \n",
              "94  {'ECG_R_Peaks': array([ 690, 1015, 1403, 1792,...   \n",
              "95  {'ECG_R_Peaks': array([ 433, 1241, 2058, 2878,...   \n",
              "96  {'ECG_R_Peaks': array([1134, 2309, 3511, 4713,...   \n",
              "97  {'ECG_R_Peaks': array([ 891, 2214, 3570, 4935,...   \n",
              "98  {'ECG_R_Peaks': array([ 303, 1129, 1949, 2775,...   \n",
              "\n",
              "                                             hrv_time   HRV_MeanNN  \\\n",
              "0      HRV_MeanNN   HRV_SDNN  HRV_SDANN1  HRV_SDNN...   805.555556   \n",
              "1      HRV_MeanNN   HRV_SDNN  HRV_SDANN1  HRV_SDNN...   806.060606   \n",
              "2      HRV_MeanNN   HRV_SDNN  HRV_SDANN1  HRV_SDNN...   992.592593   \n",
              "3       HRV_MeanNN   HRV_SDNN  HRV_SDANN1  HRV_SDN...  1015.277778   \n",
              "4      HRV_MeanNN   HRV_SDNN  HRV_SDANN1  HRV_SDNN...   791.414141   \n",
              "..                                                ...          ...   \n",
              "94     HRV_MeanNN    HRV_SDNN  HRV_SDANN1  HRV_SDN...   534.941176   \n",
              "95     HRV_MeanNN   HRV_SDNN  HRV_SDANN1  HRV_SDNN...   786.083333   \n",
              "96      HRV_MeanNN   HRV_SDNN  HRV_SDANN1  HRV_SDN...  1215.714286   \n",
              "97      HRV_MeanNN    HRV_SDNN  HRV_SDANN1  HRV_SD...  1269.857143   \n",
              "98     HRV_MeanNN   HRV_SDNN  HRV_SDANN1  HRV_SDNN...   845.636364   \n",
              "\n",
              "      HRV_SDNN   HRV_RMSSD    HRV_SDSD  HRV_CVNN  ...  ECG_P_Peaks  \\\n",
              "0    29.212926   28.067929   29.515114  0.036264  ...           12   \n",
              "1    89.043426  142.101728  149.127550  0.110467  ...           12   \n",
              "2    50.288519   67.471988   70.425608  0.050664  ...           10   \n",
              "3    27.297434   28.560404   30.801082  0.026887  ...            9   \n",
              "4    27.818152   24.767437   25.973831  0.035150  ...            5   \n",
              "..         ...         ...         ...       ...  ...          ...   \n",
              "94  230.829339  448.150714  462.848063  0.431504  ...            8   \n",
              "95   23.302198   16.887327   17.637254  0.029643  ...           13   \n",
              "96   53.368887   72.005787   78.486729  0.043899  ...            8   \n",
              "97  179.590672  211.833268  216.742858  0.141426  ...            8   \n",
              "98   18.709745   15.056560   15.862254  0.022125  ...           11   \n",
              "\n",
              "    ECG_Q_Peaks  ECG_S_Peaks  ECG_T_Peaks  ECG_R_Peaks  mean_quality   age  \\\n",
              "0            11           11           12           12      0.617106  69.0   \n",
              "1            11           11           11           12      0.673991  69.0   \n",
              "2             9            9            9           10      0.643327  75.0   \n",
              "3             8            8            9            9      0.413333  75.0   \n",
              "4             9           11            8           12      0.668521  84.0   \n",
              "..          ...          ...          ...          ...           ...   ...   \n",
              "94           14           18           12           19      0.659709  67.0   \n",
              "95           12           12           12           13      0.532063   NaN   \n",
              "96            7            7            8            8      0.617563   NaN   \n",
              "97            7            7            8            8      0.648553  35.0   \n",
              "98           11           11           12           12      0.664610  48.0   \n",
              "\n",
              "    female  male  arrythmia  \n",
              "0        0     1          1  \n",
              "1        0     1          1  \n",
              "2        1     0          1  \n",
              "3        1     0          1  \n",
              "4        1     0          1  \n",
              "..     ...   ...        ...  \n",
              "94       1     0          0  \n",
              "95       0     1          0  \n",
              "96       0     1          0  \n",
              "97       1     0          0  \n",
              "98       0     1          0  \n",
              "\n",
              "[99 rows x 33 columns]"
            ]
          },
          "execution_count": 5,
          "metadata": {},
          "output_type": "execute_result"
        }
      ],
      "source": [
        "full_data"
      ]
    },
    {
      "cell_type": "code",
      "execution_count": 6,
      "metadata": {
        "id": "e4WQwPWcg-3Z"
      },
      "outputs": [],
      "source": [
        "full_data.drop(columns = [\"Unnamed: 0\", \"raw_data\"], inplace = True)"
      ]
    },
    {
      "cell_type": "code",
      "execution_count": 7,
      "metadata": {
        "colab": {
          "base_uri": "https://localhost:8080/"
        },
        "id": "dGi9A0TI9PHs",
        "outputId": "0dd69fec-5d39-43d1-9477-92bdd27fcaf4"
      },
      "outputs": [
        {
          "data": {
            "text/plain": [
              "5"
            ]
          },
          "execution_count": 7,
          "metadata": {},
          "output_type": "execute_result"
        }
      ],
      "source": [
        "full_data['age'].isna().sum()"
      ]
    },
    {
      "cell_type": "code",
      "execution_count": 8,
      "metadata": {
        "id": "L5aRo1ZNhSbP"
      },
      "outputs": [],
      "source": [
        "full_data.dropna(inplace = True)"
      ]
    },
    {
      "cell_type": "code",
      "execution_count": 9,
      "metadata": {
        "colab": {
          "base_uri": "https://localhost:8080/",
          "height": 487
        },
        "id": "WDTql8ZhhiTw",
        "outputId": "9da2df3f-937b-4717-9a56-bc688e6d793c"
      },
      "outputs": [
        {
          "data": {
            "text/html": [
              "<div>\n",
              "<style scoped>\n",
              "    .dataframe tbody tr th:only-of-type {\n",
              "        vertical-align: middle;\n",
              "    }\n",
              "\n",
              "    .dataframe tbody tr th {\n",
              "        vertical-align: top;\n",
              "    }\n",
              "\n",
              "    .dataframe thead th {\n",
              "        text-align: right;\n",
              "    }\n",
              "</style>\n",
              "<table border=\"1\" class=\"dataframe\">\n",
              "  <thead>\n",
              "    <tr style=\"text-align: right;\">\n",
              "      <th></th>\n",
              "      <th>HRV_MeanNN</th>\n",
              "      <th>HRV_SDNN</th>\n",
              "      <th>HRV_RMSSD</th>\n",
              "      <th>HRV_SDSD</th>\n",
              "      <th>HRV_CVNN</th>\n",
              "      <th>HRV_CVSD</th>\n",
              "      <th>HRV_MedianNN</th>\n",
              "      <th>HRV_MadNN</th>\n",
              "      <th>HRV_MCVNN</th>\n",
              "      <th>HRV_IQRNN</th>\n",
              "      <th>...</th>\n",
              "      <th>HRV_HTI</th>\n",
              "      <th>HRV_TINN</th>\n",
              "      <th>ECG_P_Peaks</th>\n",
              "      <th>ECG_Q_Peaks</th>\n",
              "      <th>ECG_S_Peaks</th>\n",
              "      <th>ECG_T_Peaks</th>\n",
              "      <th>ECG_R_Peaks</th>\n",
              "      <th>mean_quality</th>\n",
              "      <th>age</th>\n",
              "      <th>arrythmia</th>\n",
              "    </tr>\n",
              "  </thead>\n",
              "  <tbody>\n",
              "    <tr>\n",
              "      <th>0</th>\n",
              "      <td>805.555556</td>\n",
              "      <td>29.212926</td>\n",
              "      <td>28.067929</td>\n",
              "      <td>29.515114</td>\n",
              "      <td>0.036264</td>\n",
              "      <td>0.034843</td>\n",
              "      <td>797.222222</td>\n",
              "      <td>24.710000</td>\n",
              "      <td>0.030995</td>\n",
              "      <td>41.666667</td>\n",
              "      <td>...</td>\n",
              "      <td>5.500000</td>\n",
              "      <td>62.5000</td>\n",
              "      <td>12</td>\n",
              "      <td>11</td>\n",
              "      <td>11</td>\n",
              "      <td>12</td>\n",
              "      <td>12</td>\n",
              "      <td>0.617106</td>\n",
              "      <td>69.0</td>\n",
              "      <td>1</td>\n",
              "    </tr>\n",
              "    <tr>\n",
              "      <th>1</th>\n",
              "      <td>806.060606</td>\n",
              "      <td>89.043426</td>\n",
              "      <td>142.101728</td>\n",
              "      <td>149.127550</td>\n",
              "      <td>0.110467</td>\n",
              "      <td>0.176292</td>\n",
              "      <td>802.777778</td>\n",
              "      <td>32.946667</td>\n",
              "      <td>0.041041</td>\n",
              "      <td>50.000000</td>\n",
              "      <td>...</td>\n",
              "      <td>5.500000</td>\n",
              "      <td>179.6875</td>\n",
              "      <td>12</td>\n",
              "      <td>11</td>\n",
              "      <td>11</td>\n",
              "      <td>11</td>\n",
              "      <td>12</td>\n",
              "      <td>0.673991</td>\n",
              "      <td>69.0</td>\n",
              "      <td>1</td>\n",
              "    </tr>\n",
              "    <tr>\n",
              "      <th>2</th>\n",
              "      <td>992.592593</td>\n",
              "      <td>50.288519</td>\n",
              "      <td>67.471988</td>\n",
              "      <td>70.425608</td>\n",
              "      <td>0.050664</td>\n",
              "      <td>0.067976</td>\n",
              "      <td>977.777778</td>\n",
              "      <td>65.893333</td>\n",
              "      <td>0.067391</td>\n",
              "      <td>69.444444</td>\n",
              "      <td>...</td>\n",
              "      <td>4.500000</td>\n",
              "      <td>93.7500</td>\n",
              "      <td>10</td>\n",
              "      <td>9</td>\n",
              "      <td>9</td>\n",
              "      <td>9</td>\n",
              "      <td>10</td>\n",
              "      <td>0.643327</td>\n",
              "      <td>75.0</td>\n",
              "      <td>1</td>\n",
              "    </tr>\n",
              "    <tr>\n",
              "      <th>4</th>\n",
              "      <td>791.414141</td>\n",
              "      <td>27.818152</td>\n",
              "      <td>24.767437</td>\n",
              "      <td>25.973831</td>\n",
              "      <td>0.035150</td>\n",
              "      <td>0.031295</td>\n",
              "      <td>788.888889</td>\n",
              "      <td>32.946667</td>\n",
              "      <td>0.041763</td>\n",
              "      <td>45.833333</td>\n",
              "      <td>...</td>\n",
              "      <td>3.666667</td>\n",
              "      <td>23.4375</td>\n",
              "      <td>5</td>\n",
              "      <td>9</td>\n",
              "      <td>11</td>\n",
              "      <td>8</td>\n",
              "      <td>12</td>\n",
              "      <td>0.668521</td>\n",
              "      <td>84.0</td>\n",
              "      <td>1</td>\n",
              "    </tr>\n",
              "    <tr>\n",
              "      <th>6</th>\n",
              "      <td>765.909091</td>\n",
              "      <td>44.584690</td>\n",
              "      <td>25.061652</td>\n",
              "      <td>24.914119</td>\n",
              "      <td>0.058211</td>\n",
              "      <td>0.032721</td>\n",
              "      <td>752.777778</td>\n",
              "      <td>32.946667</td>\n",
              "      <td>0.043767</td>\n",
              "      <td>62.500000</td>\n",
              "      <td>...</td>\n",
              "      <td>5.500000</td>\n",
              "      <td>31.2500</td>\n",
              "      <td>12</td>\n",
              "      <td>11</td>\n",
              "      <td>11</td>\n",
              "      <td>12</td>\n",
              "      <td>12</td>\n",
              "      <td>0.625069</td>\n",
              "      <td>-1.0</td>\n",
              "      <td>1</td>\n",
              "    </tr>\n",
              "    <tr>\n",
              "      <th>...</th>\n",
              "      <td>...</td>\n",
              "      <td>...</td>\n",
              "      <td>...</td>\n",
              "      <td>...</td>\n",
              "      <td>...</td>\n",
              "      <td>...</td>\n",
              "      <td>...</td>\n",
              "      <td>...</td>\n",
              "      <td>...</td>\n",
              "      <td>...</td>\n",
              "      <td>...</td>\n",
              "      <td>...</td>\n",
              "      <td>...</td>\n",
              "      <td>...</td>\n",
              "      <td>...</td>\n",
              "      <td>...</td>\n",
              "      <td>...</td>\n",
              "      <td>...</td>\n",
              "      <td>...</td>\n",
              "      <td>...</td>\n",
              "      <td>...</td>\n",
              "    </tr>\n",
              "    <tr>\n",
              "      <th>91</th>\n",
              "      <td>753.545455</td>\n",
              "      <td>26.759535</td>\n",
              "      <td>18.934096</td>\n",
              "      <td>19.857548</td>\n",
              "      <td>0.035512</td>\n",
              "      <td>0.025127</td>\n",
              "      <td>762.000000</td>\n",
              "      <td>28.169400</td>\n",
              "      <td>0.036968</td>\n",
              "      <td>41.000000</td>\n",
              "      <td>...</td>\n",
              "      <td>3.666667</td>\n",
              "      <td>62.5000</td>\n",
              "      <td>12</td>\n",
              "      <td>11</td>\n",
              "      <td>11</td>\n",
              "      <td>12</td>\n",
              "      <td>12</td>\n",
              "      <td>0.649118</td>\n",
              "      <td>37.0</td>\n",
              "      <td>0</td>\n",
              "    </tr>\n",
              "    <tr>\n",
              "      <th>93</th>\n",
              "      <td>827.181818</td>\n",
              "      <td>7.040145</td>\n",
              "      <td>8.390471</td>\n",
              "      <td>8.638415</td>\n",
              "      <td>0.008511</td>\n",
              "      <td>0.010143</td>\n",
              "      <td>827.000000</td>\n",
              "      <td>5.930400</td>\n",
              "      <td>0.007171</td>\n",
              "      <td>9.000000</td>\n",
              "      <td>...</td>\n",
              "      <td>2.750000</td>\n",
              "      <td>0.0000</td>\n",
              "      <td>12</td>\n",
              "      <td>11</td>\n",
              "      <td>11</td>\n",
              "      <td>12</td>\n",
              "      <td>12</td>\n",
              "      <td>0.549114</td>\n",
              "      <td>68.0</td>\n",
              "      <td>0</td>\n",
              "    </tr>\n",
              "    <tr>\n",
              "      <th>94</th>\n",
              "      <td>534.941176</td>\n",
              "      <td>230.829339</td>\n",
              "      <td>448.150714</td>\n",
              "      <td>462.848063</td>\n",
              "      <td>0.431504</td>\n",
              "      <td>0.837757</td>\n",
              "      <td>326.000000</td>\n",
              "      <td>4.447800</td>\n",
              "      <td>0.013644</td>\n",
              "      <td>445.000000</td>\n",
              "      <td>...</td>\n",
              "      <td>1.888889</td>\n",
              "      <td>0.0000</td>\n",
              "      <td>8</td>\n",
              "      <td>14</td>\n",
              "      <td>18</td>\n",
              "      <td>12</td>\n",
              "      <td>19</td>\n",
              "      <td>0.659709</td>\n",
              "      <td>67.0</td>\n",
              "      <td>0</td>\n",
              "    </tr>\n",
              "    <tr>\n",
              "      <th>97</th>\n",
              "      <td>1269.857143</td>\n",
              "      <td>179.590672</td>\n",
              "      <td>211.833268</td>\n",
              "      <td>216.742858</td>\n",
              "      <td>0.141426</td>\n",
              "      <td>0.166817</td>\n",
              "      <td>1323.000000</td>\n",
              "      <td>56.338800</td>\n",
              "      <td>0.042584</td>\n",
              "      <td>60.500000</td>\n",
              "      <td>...</td>\n",
              "      <td>7.000000</td>\n",
              "      <td>0.0000</td>\n",
              "      <td>8</td>\n",
              "      <td>7</td>\n",
              "      <td>7</td>\n",
              "      <td>8</td>\n",
              "      <td>8</td>\n",
              "      <td>0.648553</td>\n",
              "      <td>35.0</td>\n",
              "      <td>0</td>\n",
              "    </tr>\n",
              "    <tr>\n",
              "      <th>98</th>\n",
              "      <td>845.636364</td>\n",
              "      <td>18.709745</td>\n",
              "      <td>15.056560</td>\n",
              "      <td>15.862254</td>\n",
              "      <td>0.022125</td>\n",
              "      <td>0.017805</td>\n",
              "      <td>855.000000</td>\n",
              "      <td>14.826000</td>\n",
              "      <td>0.017340</td>\n",
              "      <td>34.500000</td>\n",
              "      <td>...</td>\n",
              "      <td>3.666667</td>\n",
              "      <td>0.0000</td>\n",
              "      <td>11</td>\n",
              "      <td>11</td>\n",
              "      <td>11</td>\n",
              "      <td>12</td>\n",
              "      <td>12</td>\n",
              "      <td>0.664610</td>\n",
              "      <td>48.0</td>\n",
              "      <td>0</td>\n",
              "    </tr>\n",
              "  </tbody>\n",
              "</table>\n",
              "<p>77 rows × 26 columns</p>\n",
              "</div>"
            ],
            "text/plain": [
              "     HRV_MeanNN    HRV_SDNN   HRV_RMSSD    HRV_SDSD  HRV_CVNN  HRV_CVSD  \\\n",
              "0    805.555556   29.212926   28.067929   29.515114  0.036264  0.034843   \n",
              "1    806.060606   89.043426  142.101728  149.127550  0.110467  0.176292   \n",
              "2    992.592593   50.288519   67.471988   70.425608  0.050664  0.067976   \n",
              "4    791.414141   27.818152   24.767437   25.973831  0.035150  0.031295   \n",
              "6    765.909091   44.584690   25.061652   24.914119  0.058211  0.032721   \n",
              "..          ...         ...         ...         ...       ...       ...   \n",
              "91   753.545455   26.759535   18.934096   19.857548  0.035512  0.025127   \n",
              "93   827.181818    7.040145    8.390471    8.638415  0.008511  0.010143   \n",
              "94   534.941176  230.829339  448.150714  462.848063  0.431504  0.837757   \n",
              "97  1269.857143  179.590672  211.833268  216.742858  0.141426  0.166817   \n",
              "98   845.636364   18.709745   15.056560   15.862254  0.022125  0.017805   \n",
              "\n",
              "    HRV_MedianNN  HRV_MadNN  HRV_MCVNN   HRV_IQRNN  ...   HRV_HTI  HRV_TINN  \\\n",
              "0     797.222222  24.710000   0.030995   41.666667  ...  5.500000   62.5000   \n",
              "1     802.777778  32.946667   0.041041   50.000000  ...  5.500000  179.6875   \n",
              "2     977.777778  65.893333   0.067391   69.444444  ...  4.500000   93.7500   \n",
              "4     788.888889  32.946667   0.041763   45.833333  ...  3.666667   23.4375   \n",
              "6     752.777778  32.946667   0.043767   62.500000  ...  5.500000   31.2500   \n",
              "..           ...        ...        ...         ...  ...       ...       ...   \n",
              "91    762.000000  28.169400   0.036968   41.000000  ...  3.666667   62.5000   \n",
              "93    827.000000   5.930400   0.007171    9.000000  ...  2.750000    0.0000   \n",
              "94    326.000000   4.447800   0.013644  445.000000  ...  1.888889    0.0000   \n",
              "97   1323.000000  56.338800   0.042584   60.500000  ...  7.000000    0.0000   \n",
              "98    855.000000  14.826000   0.017340   34.500000  ...  3.666667    0.0000   \n",
              "\n",
              "    ECG_P_Peaks  ECG_Q_Peaks  ECG_S_Peaks  ECG_T_Peaks  ECG_R_Peaks  \\\n",
              "0            12           11           11           12           12   \n",
              "1            12           11           11           11           12   \n",
              "2            10            9            9            9           10   \n",
              "4             5            9           11            8           12   \n",
              "6            12           11           11           12           12   \n",
              "..          ...          ...          ...          ...          ...   \n",
              "91           12           11           11           12           12   \n",
              "93           12           11           11           12           12   \n",
              "94            8           14           18           12           19   \n",
              "97            8            7            7            8            8   \n",
              "98           11           11           11           12           12   \n",
              "\n",
              "    mean_quality   age  arrythmia  \n",
              "0       0.617106  69.0          1  \n",
              "1       0.673991  69.0          1  \n",
              "2       0.643327  75.0          1  \n",
              "4       0.668521  84.0          1  \n",
              "6       0.625069  -1.0          1  \n",
              "..           ...   ...        ...  \n",
              "91      0.649118  37.0          0  \n",
              "93      0.549114  68.0          0  \n",
              "94      0.659709  67.0          0  \n",
              "97      0.648553  35.0          0  \n",
              "98      0.664610  48.0          0  \n",
              "\n",
              "[77 rows x 26 columns]"
            ]
          },
          "execution_count": 9,
          "metadata": {},
          "output_type": "execute_result"
        }
      ],
      "source": [
        "data_ml = full_data.drop(columns = [\"ecg_signals\", \"info\", \"hrv_time\", \"female\", \"male\"])\n",
        "data_ml = data_ml[data_ml[\"mean_quality\"]>0.5]\n",
        "data_ml"
      ]
    },
    {
      "cell_type": "code",
      "execution_count": 10,
      "metadata": {
        "colab": {
          "base_uri": "https://localhost:8080/",
          "height": 522
        },
        "id": "CBjmr4sqCY3I",
        "outputId": "996f9835-1065-4efb-aea8-71a7dd37ef58"
      },
      "outputs": [
        {
          "data": {
            "text/html": [
              "<div>\n",
              "<style scoped>\n",
              "    .dataframe tbody tr th:only-of-type {\n",
              "        vertical-align: middle;\n",
              "    }\n",
              "\n",
              "    .dataframe tbody tr th {\n",
              "        vertical-align: top;\n",
              "    }\n",
              "\n",
              "    .dataframe thead th {\n",
              "        text-align: right;\n",
              "    }\n",
              "</style>\n",
              "<table border=\"1\" class=\"dataframe\">\n",
              "  <thead>\n",
              "    <tr style=\"text-align: right;\">\n",
              "      <th></th>\n",
              "      <th>HRV_MeanNN</th>\n",
              "      <th>HRV_SDNN</th>\n",
              "      <th>HRV_RMSSD</th>\n",
              "      <th>HRV_SDSD</th>\n",
              "      <th>HRV_CVNN</th>\n",
              "      <th>HRV_CVSD</th>\n",
              "      <th>HRV_MedianNN</th>\n",
              "      <th>HRV_MadNN</th>\n",
              "      <th>HRV_MCVNN</th>\n",
              "      <th>HRV_IQRNN</th>\n",
              "      <th>...</th>\n",
              "      <th>ECG_S_Peaks</th>\n",
              "      <th>ECG_T_Peaks</th>\n",
              "      <th>ECG_R_Peaks</th>\n",
              "      <th>mean_quality</th>\n",
              "      <th>age</th>\n",
              "      <th>arrythmia</th>\n",
              "      <th>ratio p/r peaks</th>\n",
              "      <th>ratio q/r peaks</th>\n",
              "      <th>ratio s/r peaks</th>\n",
              "      <th>ratio t/r peaks</th>\n",
              "    </tr>\n",
              "  </thead>\n",
              "  <tbody>\n",
              "    <tr>\n",
              "      <th>0</th>\n",
              "      <td>805.555556</td>\n",
              "      <td>29.212926</td>\n",
              "      <td>28.067929</td>\n",
              "      <td>29.515114</td>\n",
              "      <td>0.036264</td>\n",
              "      <td>0.034843</td>\n",
              "      <td>797.222222</td>\n",
              "      <td>24.710000</td>\n",
              "      <td>0.030995</td>\n",
              "      <td>41.666667</td>\n",
              "      <td>...</td>\n",
              "      <td>11</td>\n",
              "      <td>12</td>\n",
              "      <td>12</td>\n",
              "      <td>0.617106</td>\n",
              "      <td>69.0</td>\n",
              "      <td>1</td>\n",
              "      <td>1.000000</td>\n",
              "      <td>0.916667</td>\n",
              "      <td>0.916667</td>\n",
              "      <td>1.000000</td>\n",
              "    </tr>\n",
              "    <tr>\n",
              "      <th>1</th>\n",
              "      <td>806.060606</td>\n",
              "      <td>89.043426</td>\n",
              "      <td>142.101728</td>\n",
              "      <td>149.127550</td>\n",
              "      <td>0.110467</td>\n",
              "      <td>0.176292</td>\n",
              "      <td>802.777778</td>\n",
              "      <td>32.946667</td>\n",
              "      <td>0.041041</td>\n",
              "      <td>50.000000</td>\n",
              "      <td>...</td>\n",
              "      <td>11</td>\n",
              "      <td>11</td>\n",
              "      <td>12</td>\n",
              "      <td>0.673991</td>\n",
              "      <td>69.0</td>\n",
              "      <td>1</td>\n",
              "      <td>1.000000</td>\n",
              "      <td>0.916667</td>\n",
              "      <td>0.916667</td>\n",
              "      <td>0.916667</td>\n",
              "    </tr>\n",
              "    <tr>\n",
              "      <th>2</th>\n",
              "      <td>992.592593</td>\n",
              "      <td>50.288519</td>\n",
              "      <td>67.471988</td>\n",
              "      <td>70.425608</td>\n",
              "      <td>0.050664</td>\n",
              "      <td>0.067976</td>\n",
              "      <td>977.777778</td>\n",
              "      <td>65.893333</td>\n",
              "      <td>0.067391</td>\n",
              "      <td>69.444444</td>\n",
              "      <td>...</td>\n",
              "      <td>9</td>\n",
              "      <td>9</td>\n",
              "      <td>10</td>\n",
              "      <td>0.643327</td>\n",
              "      <td>75.0</td>\n",
              "      <td>1</td>\n",
              "      <td>1.000000</td>\n",
              "      <td>0.900000</td>\n",
              "      <td>0.900000</td>\n",
              "      <td>0.900000</td>\n",
              "    </tr>\n",
              "    <tr>\n",
              "      <th>4</th>\n",
              "      <td>791.414141</td>\n",
              "      <td>27.818152</td>\n",
              "      <td>24.767437</td>\n",
              "      <td>25.973831</td>\n",
              "      <td>0.035150</td>\n",
              "      <td>0.031295</td>\n",
              "      <td>788.888889</td>\n",
              "      <td>32.946667</td>\n",
              "      <td>0.041763</td>\n",
              "      <td>45.833333</td>\n",
              "      <td>...</td>\n",
              "      <td>11</td>\n",
              "      <td>8</td>\n",
              "      <td>12</td>\n",
              "      <td>0.668521</td>\n",
              "      <td>84.0</td>\n",
              "      <td>1</td>\n",
              "      <td>0.416667</td>\n",
              "      <td>0.750000</td>\n",
              "      <td>0.916667</td>\n",
              "      <td>0.666667</td>\n",
              "    </tr>\n",
              "    <tr>\n",
              "      <th>6</th>\n",
              "      <td>765.909091</td>\n",
              "      <td>44.584690</td>\n",
              "      <td>25.061652</td>\n",
              "      <td>24.914119</td>\n",
              "      <td>0.058211</td>\n",
              "      <td>0.032721</td>\n",
              "      <td>752.777778</td>\n",
              "      <td>32.946667</td>\n",
              "      <td>0.043767</td>\n",
              "      <td>62.500000</td>\n",
              "      <td>...</td>\n",
              "      <td>11</td>\n",
              "      <td>12</td>\n",
              "      <td>12</td>\n",
              "      <td>0.625069</td>\n",
              "      <td>-1.0</td>\n",
              "      <td>1</td>\n",
              "      <td>1.000000</td>\n",
              "      <td>0.916667</td>\n",
              "      <td>0.916667</td>\n",
              "      <td>1.000000</td>\n",
              "    </tr>\n",
              "    <tr>\n",
              "      <th>...</th>\n",
              "      <td>...</td>\n",
              "      <td>...</td>\n",
              "      <td>...</td>\n",
              "      <td>...</td>\n",
              "      <td>...</td>\n",
              "      <td>...</td>\n",
              "      <td>...</td>\n",
              "      <td>...</td>\n",
              "      <td>...</td>\n",
              "      <td>...</td>\n",
              "      <td>...</td>\n",
              "      <td>...</td>\n",
              "      <td>...</td>\n",
              "      <td>...</td>\n",
              "      <td>...</td>\n",
              "      <td>...</td>\n",
              "      <td>...</td>\n",
              "      <td>...</td>\n",
              "      <td>...</td>\n",
              "      <td>...</td>\n",
              "      <td>...</td>\n",
              "    </tr>\n",
              "    <tr>\n",
              "      <th>91</th>\n",
              "      <td>753.545455</td>\n",
              "      <td>26.759535</td>\n",
              "      <td>18.934096</td>\n",
              "      <td>19.857548</td>\n",
              "      <td>0.035512</td>\n",
              "      <td>0.025127</td>\n",
              "      <td>762.000000</td>\n",
              "      <td>28.169400</td>\n",
              "      <td>0.036968</td>\n",
              "      <td>41.000000</td>\n",
              "      <td>...</td>\n",
              "      <td>11</td>\n",
              "      <td>12</td>\n",
              "      <td>12</td>\n",
              "      <td>0.649118</td>\n",
              "      <td>37.0</td>\n",
              "      <td>0</td>\n",
              "      <td>1.000000</td>\n",
              "      <td>0.916667</td>\n",
              "      <td>0.916667</td>\n",
              "      <td>1.000000</td>\n",
              "    </tr>\n",
              "    <tr>\n",
              "      <th>93</th>\n",
              "      <td>827.181818</td>\n",
              "      <td>7.040145</td>\n",
              "      <td>8.390471</td>\n",
              "      <td>8.638415</td>\n",
              "      <td>0.008511</td>\n",
              "      <td>0.010143</td>\n",
              "      <td>827.000000</td>\n",
              "      <td>5.930400</td>\n",
              "      <td>0.007171</td>\n",
              "      <td>9.000000</td>\n",
              "      <td>...</td>\n",
              "      <td>11</td>\n",
              "      <td>12</td>\n",
              "      <td>12</td>\n",
              "      <td>0.549114</td>\n",
              "      <td>68.0</td>\n",
              "      <td>0</td>\n",
              "      <td>1.000000</td>\n",
              "      <td>0.916667</td>\n",
              "      <td>0.916667</td>\n",
              "      <td>1.000000</td>\n",
              "    </tr>\n",
              "    <tr>\n",
              "      <th>94</th>\n",
              "      <td>534.941176</td>\n",
              "      <td>230.829339</td>\n",
              "      <td>448.150714</td>\n",
              "      <td>462.848063</td>\n",
              "      <td>0.431504</td>\n",
              "      <td>0.837757</td>\n",
              "      <td>326.000000</td>\n",
              "      <td>4.447800</td>\n",
              "      <td>0.013644</td>\n",
              "      <td>445.000000</td>\n",
              "      <td>...</td>\n",
              "      <td>18</td>\n",
              "      <td>12</td>\n",
              "      <td>19</td>\n",
              "      <td>0.659709</td>\n",
              "      <td>67.0</td>\n",
              "      <td>0</td>\n",
              "      <td>0.421053</td>\n",
              "      <td>0.736842</td>\n",
              "      <td>0.947368</td>\n",
              "      <td>0.631579</td>\n",
              "    </tr>\n",
              "    <tr>\n",
              "      <th>97</th>\n",
              "      <td>1269.857143</td>\n",
              "      <td>179.590672</td>\n",
              "      <td>211.833268</td>\n",
              "      <td>216.742858</td>\n",
              "      <td>0.141426</td>\n",
              "      <td>0.166817</td>\n",
              "      <td>1323.000000</td>\n",
              "      <td>56.338800</td>\n",
              "      <td>0.042584</td>\n",
              "      <td>60.500000</td>\n",
              "      <td>...</td>\n",
              "      <td>7</td>\n",
              "      <td>8</td>\n",
              "      <td>8</td>\n",
              "      <td>0.648553</td>\n",
              "      <td>35.0</td>\n",
              "      <td>0</td>\n",
              "      <td>1.000000</td>\n",
              "      <td>0.875000</td>\n",
              "      <td>0.875000</td>\n",
              "      <td>1.000000</td>\n",
              "    </tr>\n",
              "    <tr>\n",
              "      <th>98</th>\n",
              "      <td>845.636364</td>\n",
              "      <td>18.709745</td>\n",
              "      <td>15.056560</td>\n",
              "      <td>15.862254</td>\n",
              "      <td>0.022125</td>\n",
              "      <td>0.017805</td>\n",
              "      <td>855.000000</td>\n",
              "      <td>14.826000</td>\n",
              "      <td>0.017340</td>\n",
              "      <td>34.500000</td>\n",
              "      <td>...</td>\n",
              "      <td>11</td>\n",
              "      <td>12</td>\n",
              "      <td>12</td>\n",
              "      <td>0.664610</td>\n",
              "      <td>48.0</td>\n",
              "      <td>0</td>\n",
              "      <td>0.916667</td>\n",
              "      <td>0.916667</td>\n",
              "      <td>0.916667</td>\n",
              "      <td>1.000000</td>\n",
              "    </tr>\n",
              "  </tbody>\n",
              "</table>\n",
              "<p>77 rows × 30 columns</p>\n",
              "</div>"
            ],
            "text/plain": [
              "     HRV_MeanNN    HRV_SDNN   HRV_RMSSD    HRV_SDSD  HRV_CVNN  HRV_CVSD  \\\n",
              "0    805.555556   29.212926   28.067929   29.515114  0.036264  0.034843   \n",
              "1    806.060606   89.043426  142.101728  149.127550  0.110467  0.176292   \n",
              "2    992.592593   50.288519   67.471988   70.425608  0.050664  0.067976   \n",
              "4    791.414141   27.818152   24.767437   25.973831  0.035150  0.031295   \n",
              "6    765.909091   44.584690   25.061652   24.914119  0.058211  0.032721   \n",
              "..          ...         ...         ...         ...       ...       ...   \n",
              "91   753.545455   26.759535   18.934096   19.857548  0.035512  0.025127   \n",
              "93   827.181818    7.040145    8.390471    8.638415  0.008511  0.010143   \n",
              "94   534.941176  230.829339  448.150714  462.848063  0.431504  0.837757   \n",
              "97  1269.857143  179.590672  211.833268  216.742858  0.141426  0.166817   \n",
              "98   845.636364   18.709745   15.056560   15.862254  0.022125  0.017805   \n",
              "\n",
              "    HRV_MedianNN  HRV_MadNN  HRV_MCVNN   HRV_IQRNN  ...  ECG_S_Peaks  \\\n",
              "0     797.222222  24.710000   0.030995   41.666667  ...           11   \n",
              "1     802.777778  32.946667   0.041041   50.000000  ...           11   \n",
              "2     977.777778  65.893333   0.067391   69.444444  ...            9   \n",
              "4     788.888889  32.946667   0.041763   45.833333  ...           11   \n",
              "6     752.777778  32.946667   0.043767   62.500000  ...           11   \n",
              "..           ...        ...        ...         ...  ...          ...   \n",
              "91    762.000000  28.169400   0.036968   41.000000  ...           11   \n",
              "93    827.000000   5.930400   0.007171    9.000000  ...           11   \n",
              "94    326.000000   4.447800   0.013644  445.000000  ...           18   \n",
              "97   1323.000000  56.338800   0.042584   60.500000  ...            7   \n",
              "98    855.000000  14.826000   0.017340   34.500000  ...           11   \n",
              "\n",
              "    ECG_T_Peaks  ECG_R_Peaks  mean_quality   age  arrythmia  ratio p/r peaks  \\\n",
              "0            12           12      0.617106  69.0          1         1.000000   \n",
              "1            11           12      0.673991  69.0          1         1.000000   \n",
              "2             9           10      0.643327  75.0          1         1.000000   \n",
              "4             8           12      0.668521  84.0          1         0.416667   \n",
              "6            12           12      0.625069  -1.0          1         1.000000   \n",
              "..          ...          ...           ...   ...        ...              ...   \n",
              "91           12           12      0.649118  37.0          0         1.000000   \n",
              "93           12           12      0.549114  68.0          0         1.000000   \n",
              "94           12           19      0.659709  67.0          0         0.421053   \n",
              "97            8            8      0.648553  35.0          0         1.000000   \n",
              "98           12           12      0.664610  48.0          0         0.916667   \n",
              "\n",
              "    ratio q/r peaks  ratio s/r peaks  ratio t/r peaks  \n",
              "0          0.916667         0.916667         1.000000  \n",
              "1          0.916667         0.916667         0.916667  \n",
              "2          0.900000         0.900000         0.900000  \n",
              "4          0.750000         0.916667         0.666667  \n",
              "6          0.916667         0.916667         1.000000  \n",
              "..              ...              ...              ...  \n",
              "91         0.916667         0.916667         1.000000  \n",
              "93         0.916667         0.916667         1.000000  \n",
              "94         0.736842         0.947368         0.631579  \n",
              "97         0.875000         0.875000         1.000000  \n",
              "98         0.916667         0.916667         1.000000  \n",
              "\n",
              "[77 rows x 30 columns]"
            ]
          },
          "execution_count": 10,
          "metadata": {},
          "output_type": "execute_result"
        }
      ],
      "source": [
        "data_ml[\"ratio p/r peaks\"] = data_ml[\"ECG_P_Peaks\"].div(data_ml[\"ECG_R_Peaks\"])\n",
        "data_ml[\"ratio q/r peaks\"] = data_ml[\"ECG_Q_Peaks\"].div(data_ml[\"ECG_R_Peaks\"])\n",
        "data_ml[\"ratio s/r peaks\"] = data_ml[\"ECG_S_Peaks\"].div(data_ml[\"ECG_R_Peaks\"])\n",
        "data_ml[\"ratio t/r peaks\"] = data_ml[\"ECG_T_Peaks\"].div(data_ml[\"ECG_R_Peaks\"])\n",
        "data_ml"
      ]
    },
    {
      "cell_type": "code",
      "execution_count": 11,
      "metadata": {
        "colab": {
          "base_uri": "https://localhost:8080/"
        },
        "id": "MOXjbgno11Ja",
        "outputId": "a9dd9c0c-303c-4946-e661-fb8f0ebf9a05"
      },
      "outputs": [
        {
          "data": {
            "text/plain": [
              "Index(['HRV_MeanNN', 'HRV_SDNN', 'HRV_RMSSD', 'HRV_SDSD', 'HRV_CVNN',\n",
              "       'HRV_CVSD', 'HRV_MedianNN', 'HRV_MadNN', 'HRV_MCVNN', 'HRV_IQRNN',\n",
              "       'HRV_Prc20NN', 'HRV_Prc80NN', 'HRV_pNN50', 'HRV_pNN20', 'HRV_MinNN',\n",
              "       'HRV_MaxNN', 'HRV_HTI', 'HRV_TINN', 'ECG_P_Peaks', 'ECG_Q_Peaks',\n",
              "       'ECG_S_Peaks', 'ECG_T_Peaks', 'ECG_R_Peaks', 'mean_quality', 'age',\n",
              "       'arrythmia', 'ratio p/r peaks', 'ratio q/r peaks', 'ratio s/r peaks',\n",
              "       'ratio t/r peaks'],\n",
              "      dtype='object')"
            ]
          },
          "execution_count": 11,
          "metadata": {},
          "output_type": "execute_result"
        }
      ],
      "source": [
        "data_ml.columns"
      ]
    },
    {
      "cell_type": "code",
      "execution_count": 12,
      "metadata": {
        "colab": {
          "base_uri": "https://localhost:8080/",
          "height": 545
        },
        "id": "1tupPscjhyTl",
        "outputId": "b8874adb-e999-4e1c-966b-168abe97f541"
      },
      "outputs": [
        {
          "data": {
            "text/plain": [
              "<AxesSubplot:>"
            ]
          },
          "execution_count": 12,
          "metadata": {},
          "output_type": "execute_result"
        },
        {
          "data": {
            "image/png": "[encoded data removed]",
            "text/plain": [
              "<Figure size 432x288 with 2 Axes>"
            ]
          },
          "metadata": {
            "needs_background": "light"
          },
          "output_type": "display_data"
        }
      ],
      "source": [
        "corr = data_ml.corr()\n",
        "sns.heatmap(corr,xticklabels=corr.columns,\n",
        "        yticklabels=corr.columns)"
      ]
    },
    {
      "cell_type": "code",
      "execution_count": 13,
      "metadata": {
        "colab": {
          "base_uri": "https://localhost:8080/"
        },
        "id": "ylHTtlmUOUst",
        "outputId": "111da8b9-d736-4e42-f5f7-33e736e9fd29"
      },
      "outputs": [
        {
          "data": {
            "text/plain": [
              "HRV_MeanNN        -0.235541\n",
              "HRV_SDNN           0.119537\n",
              "HRV_RMSSD          0.123915\n",
              "HRV_SDSD           0.123506\n",
              "HRV_CVNN           0.133313\n",
              "HRV_CVSD           0.116689\n",
              "HRV_MedianNN      -0.189195\n",
              "HRV_MadNN          0.051330\n",
              "HRV_MCVNN          0.105223\n",
              "HRV_IQRNN         -0.087038\n",
              "HRV_Prc20NN       -0.199857\n",
              "HRV_Prc80NN       -0.229471\n",
              "HRV_pNN50         -0.014816\n",
              "HRV_pNN20          0.089299\n",
              "HRV_MinNN         -0.348430\n",
              "HRV_MaxNN         -0.087191\n",
              "HRV_HTI            0.131894\n",
              "HRV_TINN           0.344454\n",
              "ECG_P_Peaks        0.236980\n",
              "ECG_Q_Peaks        0.006668\n",
              "ECG_S_Peaks        0.211657\n",
              "ECG_T_Peaks        0.057216\n",
              "ECG_R_Peaks        0.224611\n",
              "mean_quality       0.111217\n",
              "age                0.520115\n",
              "arrythmia          1.000000\n",
              "ratio p/r peaks   -0.004705\n",
              "ratio q/r peaks   -0.219104\n",
              "ratio s/r peaks    0.053522\n",
              "ratio t/r peaks   -0.189727\n",
              "Name: arrythmia, dtype: float64"
            ]
          },
          "execution_count": 13,
          "metadata": {},
          "output_type": "execute_result"
        }
      ],
      "source": [
        "corr[\"arrythmia\"]"
      ]
    },
    {
      "cell_type": "code",
      "execution_count": 14,
      "metadata": {
        "colab": {
          "base_uri": "https://localhost:8080/",
          "height": 1000
        },
        "id": "bRFDaQ1YL-SH",
        "outputId": "3bab9d8b-f99b-4652-9a71-02073bd91297"
      },
      "outputs": [
        {
          "name": "stdout",
          "output_type": "stream",
          "text": [
            "-0.23554106882855783\n",
            "0.11953684222491814\n",
            "0.12391515188863292\n",
            "0.12350587695097644\n",
            "0.1333126744803451\n",
            "0.11668925478642703\n",
            "-0.18919457136439852\n",
            "0.05132964713115611\n",
            "0.10522338142691973\n",
            "-0.08703835313348476\n",
            "-0.19985720344809565\n",
            "-0.229470711548734\n",
            "-0.014815614944874732\n",
            "0.08929928725837635\n",
            "-0.3484304861227947\n",
            "-0.08719076876744168\n",
            "0.1318940804360953\n",
            "0.3444543159567834\n",
            "0.23697977937492246\n",
            "0.006667607089922113\n",
            "0.2116573511903351\n",
            "0.05721643253211678\n",
            "0.22461114098160107\n",
            "0.11121678445904398\n",
            "0.5201152462394193\n",
            "1.0\n",
            "-0.004705106651441953\n",
            "-0.21910447661766816\n",
            "0.05352225807104249\n",
            "-0.18972693193116907\n"
          ]
        },
        {
          "data": {
            "text/html": [
              "<div>\n",
              "<style scoped>\n",
              "    .dataframe tbody tr th:only-of-type {\n",
              "        vertical-align: middle;\n",
              "    }\n",
              "\n",
              "    .dataframe tbody tr th {\n",
              "        vertical-align: top;\n",
              "    }\n",
              "\n",
              "    .dataframe thead th {\n",
              "        text-align: right;\n",
              "    }\n",
              "</style>\n",
              "<table border=\"1\" class=\"dataframe\">\n",
              "  <thead>\n",
              "    <tr style=\"text-align: right;\">\n",
              "      <th></th>\n",
              "      <th>HRV_MeanNN</th>\n",
              "      <th>HRV_SDNN</th>\n",
              "      <th>HRV_RMSSD</th>\n",
              "      <th>HRV_SDSD</th>\n",
              "      <th>HRV_CVNN</th>\n",
              "      <th>HRV_CVSD</th>\n",
              "      <th>HRV_MedianNN</th>\n",
              "      <th>HRV_MadNN</th>\n",
              "      <th>HRV_MCVNN</th>\n",
              "      <th>HRV_IQRNN</th>\n",
              "      <th>...</th>\n",
              "      <th>ECG_S_Peaks</th>\n",
              "      <th>ECG_T_Peaks</th>\n",
              "      <th>ECG_R_Peaks</th>\n",
              "      <th>mean_quality</th>\n",
              "      <th>age</th>\n",
              "      <th>arrythmia</th>\n",
              "      <th>ratio p/r peaks</th>\n",
              "      <th>ratio q/r peaks</th>\n",
              "      <th>ratio s/r peaks</th>\n",
              "      <th>ratio t/r peaks</th>\n",
              "    </tr>\n",
              "  </thead>\n",
              "  <tbody>\n",
              "    <tr>\n",
              "      <th>0</th>\n",
              "      <td>805.555556</td>\n",
              "      <td>29.212926</td>\n",
              "      <td>28.067929</td>\n",
              "      <td>29.515114</td>\n",
              "      <td>0.036264</td>\n",
              "      <td>0.034843</td>\n",
              "      <td>797.222222</td>\n",
              "      <td>24.710000</td>\n",
              "      <td>0.030995</td>\n",
              "      <td>41.666667</td>\n",
              "      <td>...</td>\n",
              "      <td>11</td>\n",
              "      <td>12</td>\n",
              "      <td>12</td>\n",
              "      <td>0.617106</td>\n",
              "      <td>69.0</td>\n",
              "      <td>1</td>\n",
              "      <td>1.000000</td>\n",
              "      <td>0.916667</td>\n",
              "      <td>0.916667</td>\n",
              "      <td>1.000000</td>\n",
              "    </tr>\n",
              "    <tr>\n",
              "      <th>1</th>\n",
              "      <td>806.060606</td>\n",
              "      <td>89.043426</td>\n",
              "      <td>142.101728</td>\n",
              "      <td>149.127550</td>\n",
              "      <td>0.110467</td>\n",
              "      <td>0.176292</td>\n",
              "      <td>802.777778</td>\n",
              "      <td>32.946667</td>\n",
              "      <td>0.041041</td>\n",
              "      <td>50.000000</td>\n",
              "      <td>...</td>\n",
              "      <td>11</td>\n",
              "      <td>11</td>\n",
              "      <td>12</td>\n",
              "      <td>0.673991</td>\n",
              "      <td>69.0</td>\n",
              "      <td>1</td>\n",
              "      <td>1.000000</td>\n",
              "      <td>0.916667</td>\n",
              "      <td>0.916667</td>\n",
              "      <td>0.916667</td>\n",
              "    </tr>\n",
              "    <tr>\n",
              "      <th>2</th>\n",
              "      <td>992.592593</td>\n",
              "      <td>50.288519</td>\n",
              "      <td>67.471988</td>\n",
              "      <td>70.425608</td>\n",
              "      <td>0.050664</td>\n",
              "      <td>0.067976</td>\n",
              "      <td>977.777778</td>\n",
              "      <td>65.893333</td>\n",
              "      <td>0.067391</td>\n",
              "      <td>69.444444</td>\n",
              "      <td>...</td>\n",
              "      <td>9</td>\n",
              "      <td>9</td>\n",
              "      <td>10</td>\n",
              "      <td>0.643327</td>\n",
              "      <td>75.0</td>\n",
              "      <td>1</td>\n",
              "      <td>1.000000</td>\n",
              "      <td>0.900000</td>\n",
              "      <td>0.900000</td>\n",
              "      <td>0.900000</td>\n",
              "    </tr>\n",
              "    <tr>\n",
              "      <th>4</th>\n",
              "      <td>791.414141</td>\n",
              "      <td>27.818152</td>\n",
              "      <td>24.767437</td>\n",
              "      <td>25.973831</td>\n",
              "      <td>0.035150</td>\n",
              "      <td>0.031295</td>\n",
              "      <td>788.888889</td>\n",
              "      <td>32.946667</td>\n",
              "      <td>0.041763</td>\n",
              "      <td>45.833333</td>\n",
              "      <td>...</td>\n",
              "      <td>11</td>\n",
              "      <td>8</td>\n",
              "      <td>12</td>\n",
              "      <td>0.668521</td>\n",
              "      <td>84.0</td>\n",
              "      <td>1</td>\n",
              "      <td>0.416667</td>\n",
              "      <td>0.750000</td>\n",
              "      <td>0.916667</td>\n",
              "      <td>0.666667</td>\n",
              "    </tr>\n",
              "    <tr>\n",
              "      <th>6</th>\n",
              "      <td>765.909091</td>\n",
              "      <td>44.584690</td>\n",
              "      <td>25.061652</td>\n",
              "      <td>24.914119</td>\n",
              "      <td>0.058211</td>\n",
              "      <td>0.032721</td>\n",
              "      <td>752.777778</td>\n",
              "      <td>32.946667</td>\n",
              "      <td>0.043767</td>\n",
              "      <td>62.500000</td>\n",
              "      <td>...</td>\n",
              "      <td>11</td>\n",
              "      <td>12</td>\n",
              "      <td>12</td>\n",
              "      <td>0.625069</td>\n",
              "      <td>-1.0</td>\n",
              "      <td>1</td>\n",
              "      <td>1.000000</td>\n",
              "      <td>0.916667</td>\n",
              "      <td>0.916667</td>\n",
              "      <td>1.000000</td>\n",
              "    </tr>\n",
              "    <tr>\n",
              "      <th>...</th>\n",
              "      <td>...</td>\n",
              "      <td>...</td>\n",
              "      <td>...</td>\n",
              "      <td>...</td>\n",
              "      <td>...</td>\n",
              "      <td>...</td>\n",
              "      <td>...</td>\n",
              "      <td>...</td>\n",
              "      <td>...</td>\n",
              "      <td>...</td>\n",
              "      <td>...</td>\n",
              "      <td>...</td>\n",
              "      <td>...</td>\n",
              "      <td>...</td>\n",
              "      <td>...</td>\n",
              "      <td>...</td>\n",
              "      <td>...</td>\n",
              "      <td>...</td>\n",
              "      <td>...</td>\n",
              "      <td>...</td>\n",
              "      <td>...</td>\n",
              "    </tr>\n",
              "    <tr>\n",
              "      <th>91</th>\n",
              "      <td>753.545455</td>\n",
              "      <td>26.759535</td>\n",
              "      <td>18.934096</td>\n",
              "      <td>19.857548</td>\n",
              "      <td>0.035512</td>\n",
              "      <td>0.025127</td>\n",
              "      <td>762.000000</td>\n",
              "      <td>28.169400</td>\n",
              "      <td>0.036968</td>\n",
              "      <td>41.000000</td>\n",
              "      <td>...</td>\n",
              "      <td>11</td>\n",
              "      <td>12</td>\n",
              "      <td>12</td>\n",
              "      <td>0.649118</td>\n",
              "      <td>37.0</td>\n",
              "      <td>0</td>\n",
              "      <td>1.000000</td>\n",
              "      <td>0.916667</td>\n",
              "      <td>0.916667</td>\n",
              "      <td>1.000000</td>\n",
              "    </tr>\n",
              "    <tr>\n",
              "      <th>93</th>\n",
              "      <td>827.181818</td>\n",
              "      <td>7.040145</td>\n",
              "      <td>8.390471</td>\n",
              "      <td>8.638415</td>\n",
              "      <td>0.008511</td>\n",
              "      <td>0.010143</td>\n",
              "      <td>827.000000</td>\n",
              "      <td>5.930400</td>\n",
              "      <td>0.007171</td>\n",
              "      <td>9.000000</td>\n",
              "      <td>...</td>\n",
              "      <td>11</td>\n",
              "      <td>12</td>\n",
              "      <td>12</td>\n",
              "      <td>0.549114</td>\n",
              "      <td>68.0</td>\n",
              "      <td>0</td>\n",
              "      <td>1.000000</td>\n",
              "      <td>0.916667</td>\n",
              "      <td>0.916667</td>\n",
              "      <td>1.000000</td>\n",
              "    </tr>\n",
              "    <tr>\n",
              "      <th>94</th>\n",
              "      <td>534.941176</td>\n",
              "      <td>230.829339</td>\n",
              "      <td>448.150714</td>\n",
              "      <td>462.848063</td>\n",
              "      <td>0.431504</td>\n",
              "      <td>0.837757</td>\n",
              "      <td>326.000000</td>\n",
              "      <td>4.447800</td>\n",
              "      <td>0.013644</td>\n",
              "      <td>445.000000</td>\n",
              "      <td>...</td>\n",
              "      <td>18</td>\n",
              "      <td>12</td>\n",
              "      <td>19</td>\n",
              "      <td>0.659709</td>\n",
              "      <td>67.0</td>\n",
              "      <td>0</td>\n",
              "      <td>0.421053</td>\n",
              "      <td>0.736842</td>\n",
              "      <td>0.947368</td>\n",
              "      <td>0.631579</td>\n",
              "    </tr>\n",
              "    <tr>\n",
              "      <th>97</th>\n",
              "      <td>1269.857143</td>\n",
              "      <td>179.590672</td>\n",
              "      <td>211.833268</td>\n",
              "      <td>216.742858</td>\n",
              "      <td>0.141426</td>\n",
              "      <td>0.166817</td>\n",
              "      <td>1323.000000</td>\n",
              "      <td>56.338800</td>\n",
              "      <td>0.042584</td>\n",
              "      <td>60.500000</td>\n",
              "      <td>...</td>\n",
              "      <td>7</td>\n",
              "      <td>8</td>\n",
              "      <td>8</td>\n",
              "      <td>0.648553</td>\n",
              "      <td>35.0</td>\n",
              "      <td>0</td>\n",
              "      <td>1.000000</td>\n",
              "      <td>0.875000</td>\n",
              "      <td>0.875000</td>\n",
              "      <td>1.000000</td>\n",
              "    </tr>\n",
              "    <tr>\n",
              "      <th>98</th>\n",
              "      <td>845.636364</td>\n",
              "      <td>18.709745</td>\n",
              "      <td>15.056560</td>\n",
              "      <td>15.862254</td>\n",
              "      <td>0.022125</td>\n",
              "      <td>0.017805</td>\n",
              "      <td>855.000000</td>\n",
              "      <td>14.826000</td>\n",
              "      <td>0.017340</td>\n",
              "      <td>34.500000</td>\n",
              "      <td>...</td>\n",
              "      <td>11</td>\n",
              "      <td>12</td>\n",
              "      <td>12</td>\n",
              "      <td>0.664610</td>\n",
              "      <td>48.0</td>\n",
              "      <td>0</td>\n",
              "      <td>0.916667</td>\n",
              "      <td>0.916667</td>\n",
              "      <td>0.916667</td>\n",
              "      <td>1.000000</td>\n",
              "    </tr>\n",
              "  </tbody>\n",
              "</table>\n",
              "<p>77 rows × 30 columns</p>\n",
              "</div>"
            ],
            "text/plain": [
              "     HRV_MeanNN    HRV_SDNN   HRV_RMSSD    HRV_SDSD  HRV_CVNN  HRV_CVSD  \\\n",
              "0    805.555556   29.212926   28.067929   29.515114  0.036264  0.034843   \n",
              "1    806.060606   89.043426  142.101728  149.127550  0.110467  0.176292   \n",
              "2    992.592593   50.288519   67.471988   70.425608  0.050664  0.067976   \n",
              "4    791.414141   27.818152   24.767437   25.973831  0.035150  0.031295   \n",
              "6    765.909091   44.584690   25.061652   24.914119  0.058211  0.032721   \n",
              "..          ...         ...         ...         ...       ...       ...   \n",
              "91   753.545455   26.759535   18.934096   19.857548  0.035512  0.025127   \n",
              "93   827.181818    7.040145    8.390471    8.638415  0.008511  0.010143   \n",
              "94   534.941176  230.829339  448.150714  462.848063  0.431504  0.837757   \n",
              "97  1269.857143  179.590672  211.833268  216.742858  0.141426  0.166817   \n",
              "98   845.636364   18.709745   15.056560   15.862254  0.022125  0.017805   \n",
              "\n",
              "    HRV_MedianNN  HRV_MadNN  HRV_MCVNN   HRV_IQRNN  ...  ECG_S_Peaks  \\\n",
              "0     797.222222  24.710000   0.030995   41.666667  ...           11   \n",
              "1     802.777778  32.946667   0.041041   50.000000  ...           11   \n",
              "2     977.777778  65.893333   0.067391   69.444444  ...            9   \n",
              "4     788.888889  32.946667   0.041763   45.833333  ...           11   \n",
              "6     752.777778  32.946667   0.043767   62.500000  ...           11   \n",
              "..           ...        ...        ...         ...  ...          ...   \n",
              "91    762.000000  28.169400   0.036968   41.000000  ...           11   \n",
              "93    827.000000   5.930400   0.007171    9.000000  ...           11   \n",
              "94    326.000000   4.447800   0.013644  445.000000  ...           18   \n",
              "97   1323.000000  56.338800   0.042584   60.500000  ...            7   \n",
              "98    855.000000  14.826000   0.017340   34.500000  ...           11   \n",
              "\n",
              "    ECG_T_Peaks  ECG_R_Peaks  mean_quality   age  arrythmia  ratio p/r peaks  \\\n",
              "0            12           12      0.617106  69.0          1         1.000000   \n",
              "1            11           12      0.673991  69.0          1         1.000000   \n",
              "2             9           10      0.643327  75.0          1         1.000000   \n",
              "4             8           12      0.668521  84.0          1         0.416667   \n",
              "6            12           12      0.625069  -1.0          1         1.000000   \n",
              "..          ...          ...           ...   ...        ...              ...   \n",
              "91           12           12      0.649118  37.0          0         1.000000   \n",
              "93           12           12      0.549114  68.0          0         1.000000   \n",
              "94           12           19      0.659709  67.0          0         0.421053   \n",
              "97            8            8      0.648553  35.0          0         1.000000   \n",
              "98           12           12      0.664610  48.0          0         0.916667   \n",
              "\n",
              "    ratio q/r peaks  ratio s/r peaks  ratio t/r peaks  \n",
              "0          0.916667         0.916667         1.000000  \n",
              "1          0.916667         0.916667         0.916667  \n",
              "2          0.900000         0.900000         0.900000  \n",
              "4          0.750000         0.916667         0.666667  \n",
              "6          0.916667         0.916667         1.000000  \n",
              "..              ...              ...              ...  \n",
              "91         0.916667         0.916667         1.000000  \n",
              "93         0.916667         0.916667         1.000000  \n",
              "94         0.736842         0.947368         0.631579  \n",
              "97         0.875000         0.875000         1.000000  \n",
              "98         0.916667         0.916667         1.000000  \n",
              "\n",
              "[77 rows x 30 columns]"
            ]
          },
          "execution_count": 14,
          "metadata": {},
          "output_type": "execute_result"
        }
      ],
      "source": [
        "for i in corr.columns:\n",
        "  print(corr[\"arrythmia\"][i])\n",
        "  if i == \"arrythmia\":\n",
        "    pass\n",
        "  elif corr[\"arrythmia\"][i] > 0.6 or corr[\"arrythmia\"][i] < -0.6:\n",
        "    data_ml.drop(columns = i, inplace = True)\n",
        "    print(i)\n",
        "data_ml"
      ]
    },
    {
      "cell_type": "code",
      "execution_count": 15,
      "metadata": {
        "colab": {
          "base_uri": "https://localhost:8080/",
          "height": 328
        },
        "id": "qVxGILC0RQVS",
        "outputId": "36ecdcfd-8868-4d5a-ed24-af2c84c3b70e"
      },
      "outputs": [
        {
          "data": {
            "text/plain": [
              "Index(['HRV_MeanNN', 'HRV_SDNN', 'HRV_RMSSD', 'HRV_SDSD', 'HRV_CVNN',\n",
              "       'HRV_CVSD', 'HRV_MedianNN', 'HRV_MadNN', 'HRV_MCVNN', 'HRV_IQRNN',\n",
              "       'HRV_Prc20NN', 'HRV_Prc80NN', 'HRV_pNN50', 'HRV_pNN20', 'HRV_MinNN',\n",
              "       'HRV_MaxNN', 'HRV_HTI', 'HRV_TINN', 'ECG_P_Peaks', 'ECG_Q_Peaks',\n",
              "       'ECG_S_Peaks', 'ECG_T_Peaks', 'ECG_R_Peaks', 'age', 'arrythmia',\n",
              "       'ratio p/r peaks', 'ratio q/r peaks', 'ratio s/r peaks',\n",
              "       'ratio t/r peaks'],\n",
              "      dtype='object')"
            ]
          },
          "execution_count": 15,
          "metadata": {},
          "output_type": "execute_result"
        }
      ],
      "source": [
        "data_ml.drop(columns = [\"mean_quality\"], inplace = True)\n",
        "data_ml.columns"
      ]
    },
    {
      "cell_type": "code",
      "execution_count": 16,
      "metadata": {
        "id": "m49ivqmyiCFI"
      },
      "outputs": [],
      "source": [
        "train, test = model_selection.train_test_split(data_ml, test_size=0.3, random_state=42, shuffle=True)"
      ]
    },
    {
      "cell_type": "code",
      "execution_count": 17,
      "metadata": {
        "colab": {
          "base_uri": "https://localhost:8080/"
        },
        "id": "ep7pe2X8L2dC",
        "outputId": "f661bfee-2b6c-4bfa-ec91-2255fd5c4580"
      },
      "outputs": [
        {
          "data": {
            "text/plain": [
              "(53, 29)"
            ]
          },
          "execution_count": 17,
          "metadata": {},
          "output_type": "execute_result"
        }
      ],
      "source": [
        "train.shape"
      ]
    },
    {
      "cell_type": "code",
      "execution_count": 18,
      "metadata": {
        "colab": {
          "base_uri": "https://localhost:8080/"
        },
        "id": "40nzP3tUMAIX",
        "outputId": "0bd56468-a2dc-4f30-c49a-b5fed8c582a3"
      },
      "outputs": [
        {
          "data": {
            "text/plain": [
              "(24, 29)"
            ]
          },
          "execution_count": 18,
          "metadata": {},
          "output_type": "execute_result"
        }
      ],
      "source": [
        "test.shape"
      ]
    },
    {
      "cell_type": "code",
      "execution_count": 19,
      "metadata": {
        "colab": {
          "base_uri": "https://localhost:8080/"
        },
        "id": "HZt07e121Qn9",
        "outputId": "ba6d02a7-b425-4548-e4d7-8a6583bd43f7"
      },
      "outputs": [
        {
          "data": {
            "text/plain": [
              "Index(['HRV_MeanNN', 'HRV_SDNN', 'HRV_RMSSD', 'HRV_SDSD', 'HRV_CVNN',\n",
              "       'HRV_CVSD', 'HRV_MedianNN', 'HRV_MadNN', 'HRV_MCVNN', 'HRV_IQRNN',\n",
              "       'HRV_Prc20NN', 'HRV_Prc80NN', 'HRV_pNN50', 'HRV_pNN20', 'HRV_MinNN',\n",
              "       'HRV_MaxNN', 'HRV_HTI', 'HRV_TINN', 'ECG_P_Peaks', 'ECG_Q_Peaks',\n",
              "       'ECG_S_Peaks', 'ECG_T_Peaks', 'ECG_R_Peaks', 'age', 'arrythmia',\n",
              "       'ratio p/r peaks', 'ratio q/r peaks', 'ratio s/r peaks',\n",
              "       'ratio t/r peaks'],\n",
              "      dtype='object')"
            ]
          },
          "execution_count": 19,
          "metadata": {},
          "output_type": "execute_result"
        }
      ],
      "source": [
        "test.columns"
      ]
    },
    {
      "cell_type": "code",
      "execution_count": 20,
      "metadata": {
        "colab": {
          "base_uri": "https://localhost:8080/",
          "height": 1000
        },
        "id": "DYWDcx8Ri866",
        "outputId": "886376e6-b936-4120-89fd-274008ed06a2"
      },
      "outputs": [
        {
          "name": "stdout",
          "output_type": "stream",
          "text": [
            "     HRV_MeanNN    HRV_SDNN   HRV_RMSSD    HRV_SDSD  HRV_CVNN  HRV_CVSD  \\\n",
            "80   821.200000   15.193566   21.000000   22.010099  0.018502  0.025572   \n",
            "64   974.777778   35.120428   55.140729   58.536924  0.036029  0.056567   \n",
            "36  1074.652778   18.865386   35.510885   38.346559  0.017555  0.033044   \n",
            "9    697.222222   20.756029   17.439637   18.019908  0.029770  0.025013   \n",
            "76   801.181818   33.635749   31.511903   33.022551  0.041983  0.039332   \n",
            "50   779.090909   23.926782   20.319941   20.934023  0.030711  0.026082   \n",
            "93   827.181818    7.040145    8.390471    8.638415  0.008511  0.010143   \n",
            "58   892.300000   64.683932   72.241109   76.536121  0.072491  0.080961   \n",
            "98   845.636364   18.709745   15.056560   15.862254  0.022125  0.017805   \n",
            "21   868.611111   21.834975   23.111081   23.872913  0.025138  0.026607   \n",
            "78   762.250000   14.207073   10.427237    9.932499  0.018638  0.013680   \n",
            "29   842.676768   10.413720   13.088021   13.595670  0.012358  0.015531   \n",
            "48   522.685185   44.873845   52.566657   53.526042  0.085853  0.100570   \n",
            "15   707.407407   21.066318   21.005183   21.759707  0.029780  0.029693   \n",
            "65   822.454545   11.237114   13.046072   13.711309  0.013663  0.015862   \n",
            "4    791.414141   27.818152   24.767437   25.973831  0.035150  0.031295   \n",
            "19   727.546296   26.839150   23.028309   23.677121  0.036890  0.031652   \n",
            "43   635.912698   18.696363   20.528395   21.068239  0.029401  0.032282   \n",
            "10   922.222222  168.696487  270.235570  286.102496  0.182924  0.293027   \n",
            "75   976.000000   21.903196   13.336979   12.799972  0.022442  0.013665   \n",
            "8    728.472222   17.332046   14.722460   15.384157  0.023792  0.020210   \n",
            "41   693.803419  153.391670  275.810161  287.456384  0.221088  0.397534   \n",
            "87   776.000000   21.739365   26.368542   27.576359  0.028015  0.033980   \n",
            "66   705.000000   15.356373   16.206059   16.495178  0.021782  0.022987   \n",
            "54   914.700000   27.439023   25.440563   26.925824  0.029998  0.027813   \n",
            "97  1269.857143  179.590672  211.833268  216.742858  0.141426  0.166817   \n",
            "17   723.290598   35.510288   56.706821   59.168603  0.049095  0.078401   \n",
            "32   828.055556   98.003475  107.861429  109.422939  0.118354  0.130259   \n",
            "47   557.118056   15.247234   24.710255   25.559581  0.027368  0.044354   \n",
            "31   860.833333   90.896031  144.028366  152.309890  0.105591  0.167313   \n",
            "56   834.818182  274.215178  451.472148  473.296583  0.328473  0.540803   \n",
            "28   787.500000    9.363887   14.626859   15.338493  0.011891  0.018574   \n",
            "49   954.222222   58.740484   49.861057   49.336852  0.061558  0.052253   \n",
            "85   683.923077   13.732331   13.453624   14.034589  0.020079  0.019671   \n",
            "69   598.200000    5.684566    4.705620    4.881002  0.009503  0.007866   \n",
            "13   831.666667   56.187761   97.951410  103.805960  0.067560  0.117777   \n",
            "37   717.824074   52.710727   68.092909   69.744805  0.073431  0.094860   \n",
            "91   753.545455   26.759535   18.934096   19.857548  0.035512  0.025127   \n",
            "73   894.900000   42.800441   42.958636   45.483819  0.047827  0.048004   \n",
            "77   735.000000   97.519229   85.421415   87.680515  0.132679  0.116220   \n",
            "83   945.000000   64.957679   89.804649   95.891214  0.068738  0.095031   \n",
            "42   738.888889   12.136985   16.666667   17.472120  0.016426  0.022556   \n",
            "34  1003.472222  124.533964  130.200463  127.786404  0.124103  0.129750   \n",
            "1    806.060606   89.043426  142.101728  149.127550  0.110467  0.176292   \n",
            "62   864.900000  134.992551  214.759038  226.008726  0.156079  0.248305   \n",
            "24  1049.691358   35.394722   41.666667   43.788563  0.033719  0.039694   \n",
            "2    992.592593   50.288519   67.471988   70.425608  0.050664  0.067976   \n",
            "27   766.898148   13.683242   20.343570   21.329940  0.017842  0.026527   \n",
            "23   614.259259  277.934215  410.613438  424.707318  0.452471  0.668469   \n",
            "74   993.000000   61.911227   57.180635   60.256446  0.062348  0.057584   \n",
            "89   931.555556   11.237339   10.908712   11.411147  0.012063  0.011710   \n",
            "16   725.694444   27.038781   25.444974   26.100901  0.037259  0.035063   \n",
            "60  1022.250000   34.935655   45.439127   48.709538  0.034175  0.044450   \n",
            "\n",
            "    HRV_MedianNN   HRV_MadNN  HRV_MCVNN   HRV_IQRNN  ...  ECG_P_Peaks  \\\n",
            "80    822.500000   20.015100   0.024334   24.500000  ...           11   \n",
            "64    972.000000   40.030200   0.041183   52.000000  ...           10   \n",
            "36   1072.222222   22.650833   0.021125   26.388889  ...            9   \n",
            "9     694.444444   20.591667   0.029652   27.777778  ...           14   \n",
            "76    808.000000   28.169400   0.034863   47.000000  ...           12   \n",
            "50    776.000000   22.239000   0.028659   29.500000  ...           12   \n",
            "93    827.000000    5.930400   0.007171    9.000000  ...           12   \n",
            "58    875.000000   57.821400   0.066082   83.500000  ...           11   \n",
            "98    855.000000   14.826000   0.017340   34.500000  ...           11   \n",
            "21    865.277778   26.769167   0.030937   32.638889  ...           11   \n",
            "78    763.500000   13.343400   0.017477   16.250000  ...           13   \n",
            "29    841.666667   12.355000   0.014679   11.111111  ...           12   \n",
            "48    526.388889   26.769167   0.050854   36.111111  ...           19   \n",
            "15    711.111111   16.473333   0.023166   26.388889  ...           13   \n",
            "65    827.000000    5.930400   0.007171   12.000000  ...           12   \n",
            "4     788.888889   32.946667   0.041763   45.833333  ...            5   \n",
            "19    734.722222   30.887500   0.042040   40.277778  ...           13   \n",
            "43    633.333333   28.828333   0.045518   24.305556  ...           15   \n",
            "10    937.500000   59.715833   0.063697   52.777778  ...           11   \n",
            "75    963.000000   11.860800   0.012317   41.000000  ...           10   \n",
            "8     729.166667   20.591667   0.028240   23.611111  ...           13   \n",
            "41    705.555556   16.473333   0.023348   16.666667  ...           13   \n",
            "87    785.000000   25.204200   0.032107   27.000000  ...           12   \n",
            "66    705.000000   17.049900   0.024184   21.500000  ...           13   \n",
            "54    927.000000   15.567300   0.016793   34.750000  ...           11   \n",
            "97   1323.000000   56.338800   0.042584   60.500000  ...            8   \n",
            "17    722.222222   24.710000   0.034214   30.555556  ...           14   \n",
            "32    861.111111   18.532500   0.021522   29.166667  ...           11   \n",
            "47    554.166667   16.473333   0.029726   19.444444  ...           17   \n",
            "31    870.833333   22.650833   0.026011   25.694444  ...           11   \n",
            "56    818.000000   42.995400   0.052562   43.000000  ...           11   \n",
            "28    786.111111    6.177500   0.007858    6.944444  ...           13   \n",
            "49    967.000000   78.577800   0.081259   82.000000  ...           10   \n",
            "85    684.000000   14.826000   0.021675   18.000000  ...           14   \n",
            "69    600.000000    8.895600   0.014826    8.500000  ...           16   \n",
            "13    833.333333   14.414167   0.017297   30.555556  ...            9   \n",
            "37    725.000000   55.597500   0.076686   74.305556  ...           13   \n",
            "91    762.000000   28.169400   0.036968   41.000000  ...           12   \n",
            "73    888.500000   47.443200   0.053397   43.750000  ...           11   \n",
            "77    721.500000   50.408400   0.069866   62.750000  ...           13   \n",
            "83    926.000000   62.269200   0.067245  107.000000  ...           10   \n",
            "42    737.500000   12.355000   0.016753   18.055556  ...           13   \n",
            "34   1041.666667   12.355000   0.011861   11.805556  ...            9   \n",
            "1     802.777778   32.946667   0.041041   50.000000  ...           12   \n",
            "62    903.000000  117.125400   0.129707  185.750000  ...           11   \n",
            "24   1052.777778   37.065000   0.035207   36.111111  ...           10   \n",
            "2     977.777778   65.893333   0.067391   69.444444  ...           10   \n",
            "27    769.444444   12.355000   0.016057   18.055556  ...           13   \n",
            "23    627.777778  424.188333   0.675698  398.611111  ...           15   \n",
            "74   1017.000000   42.995400   0.042277  103.000000  ...            9   \n",
            "89    931.000000   10.378200   0.011147   11.000000  ...           10   \n",
            "16    726.388889   37.065000   0.051026   43.055556  ...           13   \n",
            "60   1033.500000   37.806300   0.036581   47.250000  ...            9   \n",
            "\n",
            "    ECG_Q_Peaks  ECG_S_Peaks  ECG_T_Peaks  ECG_R_Peaks   age  ratio p/r peaks  \\\n",
            "80           10           10           11           11  28.0         1.000000   \n",
            "64            9            9           10           10  37.0         1.000000   \n",
            "36            8            8            9            9  77.0         1.000000   \n",
            "9            13           13           14           14  73.0         1.000000   \n",
            "76           11           11           11           12  29.0         1.000000   \n",
            "50           11           11           12           12  32.0         1.000000   \n",
            "93           11           11           12           12  68.0         1.000000   \n",
            "58           10           10           10           11  17.0         1.000000   \n",
            "98           11           11           12           12  48.0         0.916667   \n",
            "21           10           10           11           11  47.0         1.000000   \n",
            "78           12           12           12           13  28.0         1.000000   \n",
            "29           11           11           11           12  69.0         1.000000   \n",
            "48           18           18           18           19  81.0         1.000000   \n",
            "15           12           12           13           13  64.0         1.000000   \n",
            "65           11           11           12           12  29.0         1.000000   \n",
            "4             9           11            8           12  84.0         0.416667   \n",
            "19           12           12           13           13  64.0         1.000000   \n",
            "43           14           14           15           15  62.0         1.000000   \n",
            "10           10           10           11           11  24.0         1.000000   \n",
            "75            9            9           10           10  47.0         1.000000   \n",
            "8            12           12           13           13  73.0         1.000000   \n",
            "41           13           13           12           14  59.0         0.928571   \n",
            "87           11           11           12           12  40.0         1.000000   \n",
            "66           12           12           13           13  81.0         1.000000   \n",
            "54           10           10           10           11  68.0         1.000000   \n",
            "97            7            7            8            8  35.0         1.000000   \n",
            "17           13           13           10           14  64.0         1.000000   \n",
            "32           10           10           11           11  69.0         1.000000   \n",
            "47           16           16            3           17  61.0         1.000000   \n",
            "31           10           10           11           11  69.0         1.000000   \n",
            "56            7           11           12           12  36.0         0.916667   \n",
            "28           12           12           12           13  68.0         1.000000   \n",
            "49            9            9           10           10  58.0         1.000000   \n",
            "85           13           13           14           14  48.0         1.000000   \n",
            "69           15           15           16           16  35.0         1.000000   \n",
            "13            4            9            7           11  63.0         0.818182   \n",
            "37           12           12           13           13  64.0         1.000000   \n",
            "91           11           11           12           12  37.0         1.000000   \n",
            "73           10           10           10           11  30.0         1.000000   \n",
            "77           12           12           13           13  59.0         1.000000   \n",
            "83            9            9           10           10  30.0         1.000000   \n",
            "42           12           12           13           13  59.0         1.000000   \n",
            "34            8            8            9            9  83.0         1.000000   \n",
            "1            11           11           11           12  69.0         1.000000   \n",
            "62           10           10           11           11  57.0         1.000000   \n",
            "24            0            9            9           10  72.0         1.000000   \n",
            "2             9            9            9           10  75.0         1.000000   \n",
            "27           12           12           13           13  68.0         1.000000   \n",
            "23            5           13            6           16  24.0         0.937500   \n",
            "74            9            9           10           10  25.0         0.900000   \n",
            "89            9            9           10           10  69.0         1.000000   \n",
            "16           12           12           12           13  64.0         1.000000   \n",
            "60            8            8            9            9  54.0         1.000000   \n",
            "\n",
            "    ratio q/r peaks  ratio s/r peaks  ratio t/r peaks  \n",
            "80         0.909091         0.909091         1.000000  \n",
            "64         0.900000         0.900000         1.000000  \n",
            "36         0.888889         0.888889         1.000000  \n",
            "9          0.928571         0.928571         1.000000  \n",
            "76         0.916667         0.916667         0.916667  \n",
            "50         0.916667         0.916667         1.000000  \n",
            "93         0.916667         0.916667         1.000000  \n",
            "58         0.909091         0.909091         0.909091  \n",
            "98         0.916667         0.916667         1.000000  \n",
            "21         0.909091         0.909091         1.000000  \n",
            "78         0.923077         0.923077         0.923077  \n",
            "29         0.916667         0.916667         0.916667  \n",
            "48         0.947368         0.947368         0.947368  \n",
            "15         0.923077         0.923077         1.000000  \n",
            "65         0.916667         0.916667         1.000000  \n",
            "4          0.750000         0.916667         0.666667  \n",
            "19         0.923077         0.923077         1.000000  \n",
            "43         0.933333         0.933333         1.000000  \n",
            "10         0.909091         0.909091         1.000000  \n",
            "75         0.900000         0.900000         1.000000  \n",
            "8          0.923077         0.923077         1.000000  \n",
            "41         0.928571         0.928571         0.857143  \n",
            "87         0.916667         0.916667         1.000000  \n",
            "66         0.923077         0.923077         1.000000  \n",
            "54         0.909091         0.909091         0.909091  \n",
            "97         0.875000         0.875000         1.000000  \n",
            "17         0.928571         0.928571         0.714286  \n",
            "32         0.909091         0.909091         1.000000  \n",
            "47         0.941176         0.941176         0.176471  \n",
            "31         0.909091         0.909091         1.000000  \n",
            "56         0.583333         0.916667         1.000000  \n",
            "28         0.923077         0.923077         0.923077  \n",
            "49         0.900000         0.900000         1.000000  \n",
            "85         0.928571         0.928571         1.000000  \n",
            "69         0.937500         0.937500         1.000000  \n",
            "13         0.363636         0.818182         0.636364  \n",
            "37         0.923077         0.923077         1.000000  \n",
            "91         0.916667         0.916667         1.000000  \n",
            "73         0.909091         0.909091         0.909091  \n",
            "77         0.923077         0.923077         1.000000  \n",
            "83         0.900000         0.900000         1.000000  \n",
            "42         0.923077         0.923077         1.000000  \n",
            "34         0.888889         0.888889         1.000000  \n",
            "1          0.916667         0.916667         0.916667  \n",
            "62         0.909091         0.909091         1.000000  \n",
            "24         0.000000         0.900000         0.900000  \n",
            "2          0.900000         0.900000         0.900000  \n",
            "27         0.923077         0.923077         1.000000  \n",
            "23         0.312500         0.812500         0.375000  \n",
            "74         0.900000         0.900000         1.000000  \n",
            "89         0.900000         0.900000         1.000000  \n",
            "16         0.923077         0.923077         0.923077  \n",
            "60         0.888889         0.888889         1.000000  \n",
            "\n",
            "[53 rows x 28 columns] 80    0\n",
            "64    0\n",
            "36    1\n",
            "9     1\n",
            "76    0\n",
            "50    0\n",
            "93    0\n",
            "58    0\n",
            "98    0\n",
            "21    1\n",
            "78    0\n",
            "29    1\n",
            "48    1\n",
            "15    1\n",
            "65    0\n",
            "4     1\n",
            "19    1\n",
            "43    1\n",
            "10    1\n",
            "75    0\n",
            "8     1\n",
            "41    1\n",
            "87    0\n",
            "66    0\n",
            "54    0\n",
            "97    0\n",
            "17    1\n",
            "32    1\n",
            "47    1\n",
            "31    1\n",
            "56    0\n",
            "28    1\n",
            "49    0\n",
            "85    0\n",
            "69    0\n",
            "13    1\n",
            "37    1\n",
            "91    0\n",
            "73    0\n",
            "77    0\n",
            "83    0\n",
            "42    1\n",
            "34    1\n",
            "1     1\n",
            "62    0\n",
            "24    1\n",
            "2     1\n",
            "27    1\n",
            "23    1\n",
            "74    0\n",
            "89    0\n",
            "16    1\n",
            "60    0\n",
            "Name: arrythmia, dtype: int64\n"
          ]
        },
        {
          "name": "stderr",
          "output_type": "stream",
          "text": [
            "c:\\Users\\reegi\\AppData\\Local\\Programs\\Python\\Python310\\lib\\site-packages\\sklearn\\linear_model\\_logistic.py:444: ConvergenceWarning: lbfgs failed to converge (status=1):\n",
            "STOP: TOTAL NO. of ITERATIONS REACHED LIMIT.\n",
            "\n",
            "Increase the number of iterations (max_iter) or scale the data as shown in:\n",
            "    https://scikit-learn.org/stable/modules/preprocessing.html\n",
            "Please also refer to the documentation for alternative solver options:\n",
            "    https://scikit-learn.org/stable/modules/linear_model.html#logistic-regression\n",
            "  n_iter_i = _check_optimize_result(\n"
          ]
        },
        {
          "data": {
            "text/html": [
              "<style>#sk-container-id-1 {color: black;background-color: white;}#sk-container-id-1 pre{padding: 0;}#sk-container-id-1 div.sk-toggleable {background-color: white;}#sk-container-id-1 label.sk-toggleable__label {cursor: pointer;display: block;width: 100%;margin-bottom: 0;padding: 0.3em;box-sizing: border-box;text-align: center;}#sk-container-id-1 label.sk-toggleable__label-arrow:before {content: \"▸\";float: left;margin-right: 0.25em;color: #696969;}#sk-container-id-1 label.sk-toggleable__label-arrow:hover:before {color: black;}#sk-container-id-1 div.sk-estimator:hover label.sk-toggleable__label-arrow:before {color: black;}#sk-container-id-1 div.sk-toggleable__content {max-height: 0;max-width: 0;overflow: hidden;text-align: left;background-color: #f0f8ff;}#sk-container-id-1 div.sk-toggleable__content pre {margin: 0.2em;color: black;border-radius: 0.25em;background-color: #f0f8ff;}#sk-container-id-1 input.sk-toggleable__control:checked~div.sk-toggleable__content {max-height: 200px;max-width: 100%;overflow: auto;}#sk-container-id-1 input.sk-toggleable__control:checked~label.sk-toggleable__label-arrow:before {content: \"▾\";}#sk-container-id-1 div.sk-estimator input.sk-toggleable__control:checked~label.sk-toggleable__label {background-color: #d4ebff;}#sk-container-id-1 div.sk-label input.sk-toggleable__control:checked~label.sk-toggleable__label {background-color: #d4ebff;}#sk-container-id-1 input.sk-hidden--visually {border: 0;clip: rect(1px 1px 1px 1px);clip: rect(1px, 1px, 1px, 1px);height: 1px;margin: -1px;overflow: hidden;padding: 0;position: absolute;width: 1px;}#sk-container-id-1 div.sk-estimator {font-family: monospace;background-color: #f0f8ff;border: 1px dotted black;border-radius: 0.25em;box-sizing: border-box;margin-bottom: 0.5em;}#sk-container-id-1 div.sk-estimator:hover {background-color: #d4ebff;}#sk-container-id-1 div.sk-parallel-item::after {content: \"\";width: 100%;border-bottom: 1px solid gray;flex-grow: 1;}#sk-container-id-1 div.sk-label:hover label.sk-toggleable__label {background-color: #d4ebff;}#sk-container-id-1 div.sk-serial::before {content: \"\";position: absolute;border-left: 1px solid gray;box-sizing: border-box;top: 0;bottom: 0;left: 50%;z-index: 0;}#sk-container-id-1 div.sk-serial {display: flex;flex-direction: column;align-items: center;background-color: white;padding-right: 0.2em;padding-left: 0.2em;position: relative;}#sk-container-id-1 div.sk-item {position: relative;z-index: 1;}#sk-container-id-1 div.sk-parallel {display: flex;align-items: stretch;justify-content: center;background-color: white;position: relative;}#sk-container-id-1 div.sk-item::before, #sk-container-id-1 div.sk-parallel-item::before {content: \"\";position: absolute;border-left: 1px solid gray;box-sizing: border-box;top: 0;bottom: 0;left: 50%;z-index: -1;}#sk-container-id-1 div.sk-parallel-item {display: flex;flex-direction: column;z-index: 1;position: relative;background-color: white;}#sk-container-id-1 div.sk-parallel-item:first-child::after {align-self: flex-end;width: 50%;}#sk-container-id-1 div.sk-parallel-item:last-child::after {align-self: flex-start;width: 50%;}#sk-container-id-1 div.sk-parallel-item:only-child::after {width: 0;}#sk-container-id-1 div.sk-dashed-wrapped {border: 1px dashed gray;margin: 0 0.4em 0.5em 0.4em;box-sizing: border-box;padding-bottom: 0.4em;background-color: white;}#sk-container-id-1 div.sk-label label {font-family: monospace;font-weight: bold;display: inline-block;line-height: 1.2em;}#sk-container-id-1 div.sk-label-container {text-align: center;}#sk-container-id-1 div.sk-container {/* jupyter's `normalize.less` sets `[hidden] { display: none; }` but bootstrap.min.css set `[hidden] { display: none !important; }` so we also need the `!important` here to be able to override the default hidden behavior on the sphinx rendered scikit-learn.org. See: https://github.com/scikit-learn/scikit-learn/issues/21755 */display: inline-block !important;position: relative;}#sk-container-id-1 div.sk-text-repr-fallback {display: none;}</style><div id=\"sk-container-id-1\" class=\"sk-top-container\"><div class=\"sk-text-repr-fallback\"><pre>LogisticRegression()</pre><b>In a Jupyter environment, please rerun this cell to show the HTML representation or trust the notebook. <br />On GitHub, the HTML representation is unable to render, please try loading this page with nbviewer.org.</b></div><div class=\"sk-container\" hidden><div class=\"sk-item\"><div class=\"sk-estimator sk-toggleable\"><input class=\"sk-toggleable__control sk-hidden--visually\" id=\"sk-estimator-id-1\" type=\"checkbox\" checked><label for=\"sk-estimator-id-1\" class=\"sk-toggleable__label sk-toggleable__label-arrow\">LogisticRegression</label><div class=\"sk-toggleable__content\"><pre>LogisticRegression()</pre></div></div></div></div></div>"
            ],
            "text/plain": [
              "LogisticRegression()"
            ]
          },
          "execution_count": 20,
          "metadata": {},
          "output_type": "execute_result"
        }
      ],
      "source": [
        "from sklearn.linear_model import LogisticRegression\n",
        "\n",
        "# train = train.apply(pd.to_numeric, errors='coerce')\n",
        "\n",
        "train.dropna(inplace = True)\n",
        "\n",
        "x = train.drop(columns = [\"arrythmia\"])\n",
        "y = train[\"arrythmia\"]\n",
        "print(x, y)\n",
        "logreg = LogisticRegression()\n",
        "logreg.fit(x,y)"
      ]
    },
    {
      "cell_type": "code",
      "execution_count": 21,
      "metadata": {
        "id": "syI-z_8LDYxs"
      },
      "outputs": [],
      "source": [
        "# test = test.apply(pd.to_numeric, errors='coerce')\n",
        "\n",
        "test.dropna(inplace = True)\n",
        "prediction = logreg.predict(test.drop(columns = [\"arrythmia\"]))"
      ]
    },
    {
      "cell_type": "code",
      "execution_count": 22,
      "metadata": {
        "colab": {
          "base_uri": "https://localhost:8080/"
        },
        "id": "oKcO7U40Dyg5",
        "outputId": "5b3317c2-4f4f-4978-af2d-a1119bd1cb59"
      },
      "outputs": [
        {
          "data": {
            "text/plain": [
              "array([0, 1, 1, 1, 0, 0, 0, 0, 0, 1, 0, 0, 1, 1, 0, 0, 0, 1, 0, 0, 1, 1,\n",
              "       1, 1], dtype=int64)"
            ]
          },
          "execution_count": 22,
          "metadata": {},
          "output_type": "execute_result"
        }
      ],
      "source": [
        "prediction"
      ]
    },
    {
      "cell_type": "code",
      "execution_count": 23,
      "metadata": {
        "colab": {
          "base_uri": "https://localhost:8080/"
        },
        "id": "MfRCWo0OD0hA",
        "outputId": "50dcb510-b964-4bfd-9c9d-555644169858"
      },
      "outputs": [
        {
          "data": {
            "text/plain": [
              "6     1\n",
              "40    1\n",
              "12    1\n",
              "0     1\n",
              "51    0\n",
              "55    0\n",
              "82    0\n",
              "63    0\n",
              "59    0\n",
              "33    1\n",
              "84    0\n",
              "94    0\n",
              "20    1\n",
              "14    1\n",
              "70    0\n",
              "38    1\n",
              "11    1\n",
              "7     1\n",
              "39    1\n",
              "25    1\n",
              "35    1\n",
              "45    1\n",
              "44    1\n",
              "18    1\n",
              "Name: arrythmia, dtype: int64"
            ]
          },
          "execution_count": 23,
          "metadata": {},
          "output_type": "execute_result"
        }
      ],
      "source": [
        "test[\"arrythmia\"]"
      ]
    },
    {
      "cell_type": "code",
      "execution_count": 24,
      "metadata": {
        "colab": {
          "base_uri": "https://localhost:8080/"
        },
        "id": "D5wk-YdYEmau",
        "outputId": "525ea7fd-6d93-4529-8b75-b36df9536ac5"
      },
      "outputs": [
        {
          "data": {
            "text/plain": [
              "0.7916666666666666"
            ]
          },
          "execution_count": 24,
          "metadata": {},
          "output_type": "execute_result"
        }
      ],
      "source": [
        "logreg.score(test.drop(columns = [\"arrythmia\"]), test[\"arrythmia\"])"
      ]
    },
    {
      "cell_type": "code",
      "execution_count": 25,
      "metadata": {
        "colab": {
          "base_uri": "https://localhost:8080/"
        },
        "id": "Cay_hkJTOq1Z",
        "outputId": "f9f6ffd3-352d-4c84-990d-9632bc56799d"
      },
      "outputs": [
        {
          "data": {
            "text/plain": [
              "array([[ 1.59920374e-02, -2.79016785e-01,  3.39039168e-02,\n",
              "         4.38506405e-02, -1.88180637e-04,  3.03926383e-04,\n",
              "        -5.30303241e-02,  3.23125670e-01,  6.04632323e-04,\n",
              "        -1.94397589e-01,  1.11646900e-01, -2.09641816e-02,\n",
              "        -1.63177174e-01,  1.77724886e-01, -8.56434576e-02,\n",
              "         1.53814893e-02,  5.19278592e-02, -1.40711083e-02,\n",
              "        -1.49583140e-02, -8.38194020e-02, -9.87495358e-03,\n",
              "        -7.05399868e-02, -7.36833851e-03,  2.02009789e-01,\n",
              "        -2.11460320e-03, -8.73065604e-03, -1.60763741e-03,\n",
              "        -6.11472856e-03]])"
            ]
          },
          "execution_count": 25,
          "metadata": {},
          "output_type": "execute_result"
        }
      ],
      "source": [
        "logreg.coef_"
      ]
    },
    {
      "attachments": {},
      "cell_type": "markdown",
      "metadata": {
        "id": "_S4V7w4xRWZT"
      },
      "source": [
        "# Inician pruebas con Decision Tree Clasifier"
      ]
    },
    {
      "cell_type": "code",
      "execution_count": 26,
      "metadata": {
        "id": "VeV6OmJqRV0E"
      },
      "outputs": [],
      "source": [
        "from sklearn import tree\n",
        "clf = tree.DecisionTreeClassifier(random_state = 1, max_features = 20) # va ganando log2\n",
        "clf = clf.fit(x,y)"
      ]
    },
    {
      "cell_type": "code",
      "execution_count": 27,
      "metadata": {
        "id": "gH0yB2Z4SLGX"
      },
      "outputs": [],
      "source": [
        "test.dropna(inplace = True)\n",
        "prediction_tree = clf.predict(test.drop(columns = [\"arrythmia\"]))"
      ]
    },
    {
      "attachments": {},
      "cell_type": "markdown",
      "metadata": {},
      "source": [
        "Regina 29/05/2023: Sorprendentemente, clf tiene un score de 0.83."
      ]
    },
    {
      "cell_type": "code",
      "execution_count": 29,
      "metadata": {
        "colab": {
          "base_uri": "https://localhost:8080/"
        },
        "id": "J5thkUnJSRle",
        "outputId": "afec0cf8-c90e-461e-de9a-0a0189a943cd"
      },
      "outputs": [
        {
          "data": {
            "text/plain": [
              "0.8333333333333334"
            ]
          },
          "execution_count": 29,
          "metadata": {},
          "output_type": "execute_result"
        }
      ],
      "source": [
        "clf.score(test.drop(columns = [\"arrythmia\"]), test[\"arrythmia\"])"
      ]
    },
    {
      "cell_type": "code",
      "execution_count": 30,
      "metadata": {
        "colab": {
          "base_uri": "https://localhost:8080/",
          "height": 805
        },
        "id": "riz6TG3HSfaP",
        "outputId": "1c794028-a0e0-4ade-d653-ddf7089a45df"
      },
      "outputs": [
        {
          "data": {
            "text/plain": [
              "[Text(0.4342105263157895, 0.9166666666666666, 'X[23] <= 58.5\\ngini = 0.5\\nsamples = 53\\nvalue = [26, 27]'),\n",
              " Text(0.21052631578947367, 0.75, 'X[14] <= 554.611\\ngini = 0.219\\nsamples = 24\\nvalue = [21, 3]'),\n",
              " Text(0.10526315789473684, 0.5833333333333334, 'X[21] <= 11.5\\ngini = 0.444\\nsamples = 3\\nvalue = [1, 2]'),\n",
              " Text(0.05263157894736842, 0.4166666666666667, 'gini = 0.0\\nsamples = 2\\nvalue = [0, 2]'),\n",
              " Text(0.15789473684210525, 0.4166666666666667, 'gini = 0.0\\nsamples = 1\\nvalue = [1, 0]'),\n",
              " Text(0.3157894736842105, 0.5833333333333334, 'X[23] <= 43.5\\ngini = 0.091\\nsamples = 21\\nvalue = [20, 1]'),\n",
              " Text(0.2631578947368421, 0.4166666666666667, 'gini = 0.0\\nsamples = 14\\nvalue = [14, 0]'),\n",
              " Text(0.3684210526315789, 0.4166666666666667, 'X[9] <= 33.569\\ngini = 0.245\\nsamples = 7\\nvalue = [6, 1]'),\n",
              " Text(0.3157894736842105, 0.25, 'X[14] <= 746.944\\ngini = 0.5\\nsamples = 2\\nvalue = [1, 1]'),\n",
              " Text(0.2631578947368421, 0.08333333333333333, 'gini = 0.0\\nsamples = 1\\nvalue = [1, 0]'),\n",
              " Text(0.3684210526315789, 0.08333333333333333, 'gini = 0.0\\nsamples = 1\\nvalue = [0, 1]'),\n",
              " Text(0.42105263157894735, 0.25, 'gini = 0.0\\nsamples = 5\\nvalue = [5, 0]'),\n",
              " Text(0.6578947368421053, 0.75, 'X[13] <= 17.424\\ngini = 0.285\\nsamples = 29\\nvalue = [5, 24]'),\n",
              " Text(0.5263157894736842, 0.5833333333333334, 'X[27] <= 0.962\\ngini = 0.375\\nsamples = 4\\nvalue = [3, 1]'),\n",
              " Text(0.47368421052631576, 0.4166666666666667, 'gini = 0.0\\nsamples = 1\\nvalue = [0, 1]'),\n",
              " Text(0.5789473684210527, 0.4166666666666667, 'gini = 0.0\\nsamples = 3\\nvalue = [3, 0]'),\n",
              " Text(0.7894736842105263, 0.5833333333333334, 'X[8] <= 0.069\\ngini = 0.147\\nsamples = 25\\nvalue = [2, 23]'),\n",
              " Text(0.6842105263157895, 0.4166666666666667, 'X[14] <= 846.278\\ngini = 0.083\\nsamples = 23\\nvalue = [1, 22]'),\n",
              " Text(0.631578947368421, 0.25, 'gini = 0.0\\nsamples = 19\\nvalue = [0, 19]'),\n",
              " Text(0.7368421052631579, 0.25, 'X[5] <= 0.03\\ngini = 0.375\\nsamples = 4\\nvalue = [1, 3]'),\n",
              " Text(0.6842105263157895, 0.08333333333333333, 'gini = 0.0\\nsamples = 1\\nvalue = [1, 0]'),\n",
              " Text(0.7894736842105263, 0.08333333333333333, 'gini = 0.0\\nsamples = 3\\nvalue = [0, 3]'),\n",
              " Text(0.8947368421052632, 0.4166666666666667, 'X[8] <= 0.073\\ngini = 0.5\\nsamples = 2\\nvalue = [1, 1]'),\n",
              " Text(0.8421052631578947, 0.25, 'gini = 0.0\\nsamples = 1\\nvalue = [1, 0]'),\n",
              " Text(0.9473684210526315, 0.25, 'gini = 0.0\\nsamples = 1\\nvalue = [0, 1]')]"
            ]
          },
          "execution_count": 30,
          "metadata": {},
          "output_type": "execute_result"
        },
        {
          "data": {
            "image/png": "[encoded data removed]",
            "text/plain": [
              "<Figure size 432x288 with 1 Axes>"
            ]
          },
          "metadata": {
            "needs_background": "light"
          },
          "output_type": "display_data"
        }
      ],
      "source": [
        "tree.plot_tree(clf)"
      ]
    },
    {
      "attachments": {},
      "cell_type": "markdown",
      "metadata": {
        "id": "aIqPE7NqPlA2"
      },
      "source": [
        "# Random forest"
      ]
    },
    {
      "attachments": {},
      "cell_type": "markdown",
      "metadata": {},
      "source": [
        "Regina 29/05/23: Volvi a correr todo y resulto que random forest tiene un score de 0.875, por lo cual lo cambiaremos a este."
      ]
    },
    {
      "cell_type": "code",
      "execution_count": 39,
      "metadata": {
        "id": "KmOI3UfyPkuZ"
      },
      "outputs": [],
      "source": [
        "from sklearn.ensemble import RandomForestClassifier as RF\n",
        "\n",
        "model_rf = RF(random_state = 1)\n",
        "model_rf = model_rf.fit(x,y)"
      ]
    },
    {
      "cell_type": "code",
      "execution_count": 40,
      "metadata": {
        "colab": {
          "base_uri": "https://localhost:8080/"
        },
        "id": "N1LMbFkvQEou",
        "outputId": "2cff65b7-18aa-48a9-c4be-9e348ec79cc8"
      },
      "outputs": [
        {
          "name": "stdout",
          "output_type": "stream",
          "text": [
            "[0 0 1 1 0 0 0 0 0 1 0 1 1 1 0 1 1 1 1 1 1 1 1 1]\n"
          ]
        },
        {
          "data": {
            "text/plain": [
              "0.875"
            ]
          },
          "execution_count": 40,
          "metadata": {},
          "output_type": "execute_result"
        }
      ],
      "source": [
        "model_predict = model_rf.predict(test.drop(columns = [\"arrythmia\"]))\n",
        "print(model_predict)\n",
        "model_rf.score(test.drop(columns = [\"arrythmia\"]), test[\"arrythmia\"])"
      ]
    },
    {
      "attachments": {},
      "cell_type": "markdown",
      "metadata": {
        "id": "c2lX2z2LTqYQ"
      },
      "source": [
        "# Nunca es suficiente... K nearest neighbors "
      ]
    },
    {
      "cell_type": "code",
      "execution_count": 33,
      "metadata": {
        "colab": {
          "base_uri": "https://localhost:8080/",
          "height": 74
        },
        "id": "5LPcyAHiTwqh",
        "outputId": "44e8e712-8c73-4521-e419-e5eaddedb5dd"
      },
      "outputs": [
        {
          "data": {
            "text/html": [
              "<style>#sk-container-id-2 {color: black;background-color: white;}#sk-container-id-2 pre{padding: 0;}#sk-container-id-2 div.sk-toggleable {background-color: white;}#sk-container-id-2 label.sk-toggleable__label {cursor: pointer;display: block;width: 100%;margin-bottom: 0;padding: 0.3em;box-sizing: border-box;text-align: center;}#sk-container-id-2 label.sk-toggleable__label-arrow:before {content: \"▸\";float: left;margin-right: 0.25em;color: #696969;}#sk-container-id-2 label.sk-toggleable__label-arrow:hover:before {color: black;}#sk-container-id-2 div.sk-estimator:hover label.sk-toggleable__label-arrow:before {color: black;}#sk-container-id-2 div.sk-toggleable__content {max-height: 0;max-width: 0;overflow: hidden;text-align: left;background-color: #f0f8ff;}#sk-container-id-2 div.sk-toggleable__content pre {margin: 0.2em;color: black;border-radius: 0.25em;background-color: #f0f8ff;}#sk-container-id-2 input.sk-toggleable__control:checked~div.sk-toggleable__content {max-height: 200px;max-width: 100%;overflow: auto;}#sk-container-id-2 input.sk-toggleable__control:checked~label.sk-toggleable__label-arrow:before {content: \"▾\";}#sk-container-id-2 div.sk-estimator input.sk-toggleable__control:checked~label.sk-toggleable__label {background-color: #d4ebff;}#sk-container-id-2 div.sk-label input.sk-toggleable__control:checked~label.sk-toggleable__label {background-color: #d4ebff;}#sk-container-id-2 input.sk-hidden--visually {border: 0;clip: rect(1px 1px 1px 1px);clip: rect(1px, 1px, 1px, 1px);height: 1px;margin: -1px;overflow: hidden;padding: 0;position: absolute;width: 1px;}#sk-container-id-2 div.sk-estimator {font-family: monospace;background-color: #f0f8ff;border: 1px dotted black;border-radius: 0.25em;box-sizing: border-box;margin-bottom: 0.5em;}#sk-container-id-2 div.sk-estimator:hover {background-color: #d4ebff;}#sk-container-id-2 div.sk-parallel-item::after {content: \"\";width: 100%;border-bottom: 1px solid gray;flex-grow: 1;}#sk-container-id-2 div.sk-label:hover label.sk-toggleable__label {background-color: #d4ebff;}#sk-container-id-2 div.sk-serial::before {content: \"\";position: absolute;border-left: 1px solid gray;box-sizing: border-box;top: 0;bottom: 0;left: 50%;z-index: 0;}#sk-container-id-2 div.sk-serial {display: flex;flex-direction: column;align-items: center;background-color: white;padding-right: 0.2em;padding-left: 0.2em;position: relative;}#sk-container-id-2 div.sk-item {position: relative;z-index: 1;}#sk-container-id-2 div.sk-parallel {display: flex;align-items: stretch;justify-content: center;background-color: white;position: relative;}#sk-container-id-2 div.sk-item::before, #sk-container-id-2 div.sk-parallel-item::before {content: \"\";position: absolute;border-left: 1px solid gray;box-sizing: border-box;top: 0;bottom: 0;left: 50%;z-index: -1;}#sk-container-id-2 div.sk-parallel-item {display: flex;flex-direction: column;z-index: 1;position: relative;background-color: white;}#sk-container-id-2 div.sk-parallel-item:first-child::after {align-self: flex-end;width: 50%;}#sk-container-id-2 div.sk-parallel-item:last-child::after {align-self: flex-start;width: 50%;}#sk-container-id-2 div.sk-parallel-item:only-child::after {width: 0;}#sk-container-id-2 div.sk-dashed-wrapped {border: 1px dashed gray;margin: 0 0.4em 0.5em 0.4em;box-sizing: border-box;padding-bottom: 0.4em;background-color: white;}#sk-container-id-2 div.sk-label label {font-family: monospace;font-weight: bold;display: inline-block;line-height: 1.2em;}#sk-container-id-2 div.sk-label-container {text-align: center;}#sk-container-id-2 div.sk-container {/* jupyter's `normalize.less` sets `[hidden] { display: none; }` but bootstrap.min.css set `[hidden] { display: none !important; }` so we also need the `!important` here to be able to override the default hidden behavior on the sphinx rendered scikit-learn.org. See: https://github.com/scikit-learn/scikit-learn/issues/21755 */display: inline-block !important;position: relative;}#sk-container-id-2 div.sk-text-repr-fallback {display: none;}</style><div id=\"sk-container-id-2\" class=\"sk-top-container\"><div class=\"sk-text-repr-fallback\"><pre>KNeighborsClassifier(n_neighbors=3)</pre><b>In a Jupyter environment, please rerun this cell to show the HTML representation or trust the notebook. <br />On GitHub, the HTML representation is unable to render, please try loading this page with nbviewer.org.</b></div><div class=\"sk-container\" hidden><div class=\"sk-item\"><div class=\"sk-estimator sk-toggleable\"><input class=\"sk-toggleable__control sk-hidden--visually\" id=\"sk-estimator-id-2\" type=\"checkbox\" checked><label for=\"sk-estimator-id-2\" class=\"sk-toggleable__label sk-toggleable__label-arrow\">KNeighborsClassifier</label><div class=\"sk-toggleable__content\"><pre>KNeighborsClassifier(n_neighbors=3)</pre></div></div></div></div></div>"
            ],
            "text/plain": [
              "KNeighborsClassifier(n_neighbors=3)"
            ]
          },
          "execution_count": 33,
          "metadata": {},
          "output_type": "execute_result"
        }
      ],
      "source": [
        "from sklearn.neighbors import KNeighborsClassifier\n",
        "neigh = KNeighborsClassifier(n_neighbors=3)\n",
        "neigh.fit(x, y)"
      ]
    },
    {
      "cell_type": "code",
      "execution_count": 34,
      "metadata": {
        "colab": {
          "base_uri": "https://localhost:8080/"
        },
        "id": "cNts8-89U3z3",
        "outputId": "f40cb035-7e43-4e95-c4e8-9bc42d6568f3"
      },
      "outputs": [
        {
          "data": {
            "text/plain": [
              "0.7083333333333334"
            ]
          },
          "execution_count": 34,
          "metadata": {},
          "output_type": "execute_result"
        }
      ],
      "source": [
        "prediction_neigh = neigh.predict(test.drop(columns = [\"arrythmia\"]))\n",
        "neigh.score(test.drop(columns = [\"arrythmia\"]), test[\"arrythmia\"])"
      ]
    },
    {
      "attachments": {},
      "cell_type": "markdown",
      "metadata": {
        "id": "9U7f20R3X1Zf"
      },
      "source": [
        "# Intentemos redes neuronales"
      ]
    },
    {
      "cell_type": "code",
      "execution_count": null,
      "metadata": {
        "id": "NG-8G-raX7CO"
      },
      "outputs": [],
      "source": [
        "# from sklearn.neural_network import MLPClassifier\n",
        "# neuron = clf = MLPClassifier(solver='lbfgs')"
      ]
    },
    {
      "cell_type": "code",
      "execution_count": null,
      "metadata": {
        "id": "bSOqKuQXYdxP"
      },
      "outputs": [],
      "source": [
        "# neuron.fit(x,y)"
      ]
    },
    {
      "cell_type": "code",
      "execution_count": null,
      "metadata": {
        "id": "D978QOWsY9zE"
      },
      "outputs": [],
      "source": [
        "# prediction_neuron = neuron.predict(test.drop(columns = [\"arrythmia\"]))\n",
        "# neuron.score(test.drop(columns = [\"arrythmia\"]), test[\"arrythmia\"])"
      ]
    },
    {
      "cell_type": "code",
      "execution_count": 35,
      "metadata": {
        "colab": {
          "base_uri": "https://localhost:8080/"
        },
        "id": "5a9asn7LA1hd",
        "outputId": "a646e3f1-9ed2-40bd-ca82-50b173cf45e2"
      },
      "outputs": [],
      "source": [
        "# unsupervised\n",
        "from sklearn.cluster import KMeans\n",
        "\n",
        "clust = KMeans(n_clusters = 2).fit(x)\n"
      ]
    },
    {
      "cell_type": "code",
      "execution_count": 36,
      "metadata": {
        "colab": {
          "base_uri": "https://localhost:8080/"
        },
        "id": "cE1FnEiTI_Sy",
        "outputId": "6761522a-1040-41bc-f50d-acfdc2f350ed"
      },
      "outputs": [
        {
          "data": {
            "text/plain": [
              "array([0, 0, 0, 0, 1, 0, 0, 1, 1, 1, 1, 0, 0, 0, 1, 1, 0, 0, 0, 1, 1, 0,\n",
              "       0, 0])"
            ]
          },
          "execution_count": 36,
          "metadata": {},
          "output_type": "execute_result"
        }
      ],
      "source": [
        "clust.predict(test.drop(columns = [\"arrythmia\"]))"
      ]
    },
    {
      "cell_type": "code",
      "execution_count": 37,
      "metadata": {
        "colab": {
          "base_uri": "https://localhost:8080/"
        },
        "id": "-BH_jllmJGqO",
        "outputId": "4cdcf00e-8a1b-4177-b683-86e2249998f3"
      },
      "outputs": [
        {
          "data": {
            "text/plain": [
              "6     1\n",
              "40    1\n",
              "12    1\n",
              "0     1\n",
              "51    0\n",
              "55    0\n",
              "82    0\n",
              "63    0\n",
              "59    0\n",
              "33    1\n",
              "84    0\n",
              "94    0\n",
              "20    1\n",
              "14    1\n",
              "70    0\n",
              "38    1\n",
              "11    1\n",
              "7     1\n",
              "39    1\n",
              "25    1\n",
              "35    1\n",
              "45    1\n",
              "44    1\n",
              "18    1\n",
              "Name: arrythmia, dtype: int64"
            ]
          },
          "execution_count": 37,
          "metadata": {},
          "output_type": "execute_result"
        }
      ],
      "source": [
        "test.arrythmia"
      ]
    },
    {
      "cell_type": "code",
      "execution_count": 38,
      "metadata": {
        "colab": {
          "base_uri": "https://localhost:8080/"
        },
        "id": "Iqvp9c3GJKAf",
        "outputId": "d3bbd89e-813f-499a-c5d8-45e2877350cd"
      },
      "outputs": [
        {
          "data": {
            "text/plain": [
              "-5034965.065047305"
            ]
          },
          "execution_count": 38,
          "metadata": {},
          "output_type": "execute_result"
        }
      ],
      "source": [
        "clust.score(test.drop(columns = [\"arrythmia\"]), test[\"arrythmia\"])"
      ]
    },
    {
      "attachments": {},
      "cell_type": "markdown",
      "metadata": {
        "id": "8AIsvH0NQ5Jm"
      },
      "source": [
        "# Pruebillas extras"
      ]
    },
    {
      "cell_type": "code",
      "execution_count": null,
      "metadata": {
        "id": "FqjXBJKCQ66E"
      },
      "outputs": [],
      "source": [
        "# data_ml[data_ml[\"arrythmia\"] == 0].boxplot(figsize=[100,50], fontsize = 30)"
      ]
    },
    {
      "cell_type": "code",
      "execution_count": null,
      "metadata": {
        "id": "0j7a75R0W3aP"
      },
      "outputs": [],
      "source": [
        "# data_ml.hist(figsize = [70,70])"
      ]
    },
    {
      "attachments": {},
      "cell_type": "markdown",
      "metadata": {},
      "source": [
        "Guardando los datos:"
      ]
    },
    {
      "cell_type": "code",
      "execution_count": 42,
      "metadata": {
        "colab": {
          "base_uri": "https://localhost:8080/"
        },
        "id": "AQ0YPKbUY15N",
        "outputId": "5d10dfa6-3a77-4acc-f263-55e51362b0a1"
      },
      "outputs": [
        {
          "ename": "TypeError",
          "evalue": "cannot pickle 'module' object",
          "output_type": "error",
          "traceback": [
            "\u001b[1;31m---------------------------------------------------------------------------\u001b[0m",
            "\u001b[1;31mTypeError\u001b[0m                                 Traceback (most recent call last)",
            "\u001b[1;32mc:\\Users\\reegi\\Documents\\TEC\\10S\\Proyecto Integrador\\jupyter playground\\machine_learning.ipynb Cell 51\u001b[0m in \u001b[0;36m<cell line: 7>\u001b[1;34m()\u001b[0m\n\u001b[0;32m      <a href='vscode-notebook-cell:/c%3A/Users/reegi/Documents/TEC/10S/Proyecto%20Integrador/jupyter%20playground/machine_learning.ipynb#Y100sZmlsZQ%3D%3D?line=3'>4</a>\u001b[0m joblib\u001b[39m.\u001b[39mdump(model_rf,filename)\n\u001b[0;32m      <a href='vscode-notebook-cell:/c%3A/Users/reegi/Documents/TEC/10S/Proyecto%20Integrador/jupyter%20playground/machine_learning.ipynb#Y100sZmlsZQ%3D%3D?line=5'>6</a>\u001b[0m filename \u001b[39m=\u001b[39m \u001b[39m'\u001b[39m\u001b[39mmodelo_decision_tree.joblib\u001b[39m\u001b[39m'\u001b[39m\n\u001b[1;32m----> <a href='vscode-notebook-cell:/c%3A/Users/reegi/Documents/TEC/10S/Proyecto%20Integrador/jupyter%20playground/machine_learning.ipynb#Y100sZmlsZQ%3D%3D?line=6'>7</a>\u001b[0m joblib\u001b[39m.\u001b[39;49mdump(tree,filename)\n",
            "File \u001b[1;32mc:\\Users\\reegi\\AppData\\Local\\Programs\\Python\\Python310\\lib\\site-packages\\joblib\\numpy_pickle.py:553\u001b[0m, in \u001b[0;36mdump\u001b[1;34m(value, filename, compress, protocol, cache_size)\u001b[0m\n\u001b[0;32m    551\u001b[0m \u001b[39melif\u001b[39;00m is_filename:\n\u001b[0;32m    552\u001b[0m     \u001b[39mwith\u001b[39;00m \u001b[39mopen\u001b[39m(filename, \u001b[39m'\u001b[39m\u001b[39mwb\u001b[39m\u001b[39m'\u001b[39m) \u001b[39mas\u001b[39;00m f:\n\u001b[1;32m--> 553\u001b[0m         NumpyPickler(f, protocol\u001b[39m=\u001b[39;49mprotocol)\u001b[39m.\u001b[39;49mdump(value)\n\u001b[0;32m    554\u001b[0m \u001b[39melse\u001b[39;00m:\n\u001b[0;32m    555\u001b[0m     NumpyPickler(filename, protocol\u001b[39m=\u001b[39mprotocol)\u001b[39m.\u001b[39mdump(value)\n",
            "File \u001b[1;32mc:\\Users\\reegi\\AppData\\Local\\Programs\\Python\\Python310\\lib\\pickle.py:487\u001b[0m, in \u001b[0;36m_Pickler.dump\u001b[1;34m(self, obj)\u001b[0m\n\u001b[0;32m    485\u001b[0m \u001b[39mif\u001b[39;00m \u001b[39mself\u001b[39m\u001b[39m.\u001b[39mproto \u001b[39m>\u001b[39m\u001b[39m=\u001b[39m \u001b[39m4\u001b[39m:\n\u001b[0;32m    486\u001b[0m     \u001b[39mself\u001b[39m\u001b[39m.\u001b[39mframer\u001b[39m.\u001b[39mstart_framing()\n\u001b[1;32m--> 487\u001b[0m \u001b[39mself\u001b[39;49m\u001b[39m.\u001b[39;49msave(obj)\n\u001b[0;32m    488\u001b[0m \u001b[39mself\u001b[39m\u001b[39m.\u001b[39mwrite(STOP)\n\u001b[0;32m    489\u001b[0m \u001b[39mself\u001b[39m\u001b[39m.\u001b[39mframer\u001b[39m.\u001b[39mend_framing()\n",
            "File \u001b[1;32mc:\\Users\\reegi\\AppData\\Local\\Programs\\Python\\Python310\\lib\\site-packages\\joblib\\numpy_pickle.py:355\u001b[0m, in \u001b[0;36mNumpyPickler.save\u001b[1;34m(self, obj)\u001b[0m\n\u001b[0;32m    352\u001b[0m     wrapper\u001b[39m.\u001b[39mwrite_array(obj, \u001b[39mself\u001b[39m)\n\u001b[0;32m    353\u001b[0m     \u001b[39mreturn\u001b[39;00m\n\u001b[1;32m--> 355\u001b[0m \u001b[39mreturn\u001b[39;00m Pickler\u001b[39m.\u001b[39;49msave(\u001b[39mself\u001b[39;49m, obj)\n",
            "File \u001b[1;32mc:\\Users\\reegi\\AppData\\Local\\Programs\\Python\\Python310\\lib\\pickle.py:578\u001b[0m, in \u001b[0;36m_Pickler.save\u001b[1;34m(self, obj, save_persistent_id)\u001b[0m\n\u001b[0;32m    576\u001b[0m reduce \u001b[39m=\u001b[39m \u001b[39mgetattr\u001b[39m(obj, \u001b[39m\"\u001b[39m\u001b[39m__reduce_ex__\u001b[39m\u001b[39m\"\u001b[39m, \u001b[39mNone\u001b[39;00m)\n\u001b[0;32m    577\u001b[0m \u001b[39mif\u001b[39;00m reduce \u001b[39mis\u001b[39;00m \u001b[39mnot\u001b[39;00m \u001b[39mNone\u001b[39;00m:\n\u001b[1;32m--> 578\u001b[0m     rv \u001b[39m=\u001b[39m reduce(\u001b[39mself\u001b[39;49m\u001b[39m.\u001b[39;49mproto)\n\u001b[0;32m    579\u001b[0m \u001b[39melse\u001b[39;00m:\n\u001b[0;32m    580\u001b[0m     reduce \u001b[39m=\u001b[39m \u001b[39mgetattr\u001b[39m(obj, \u001b[39m\"\u001b[39m\u001b[39m__reduce__\u001b[39m\u001b[39m\"\u001b[39m, \u001b[39mNone\u001b[39;00m)\n",
            "\u001b[1;31mTypeError\u001b[0m: cannot pickle 'module' object"
          ]
        }
      ],
      "source": [
        "import joblib\n",
        "\n",
        "filename = 'modelo_random_forest.joblib'\n",
        "joblib.dump(model_rf,filename)\n",
        "\n",
        "filename = 'modelo_decision_tree.joblib'\n",
        "joblib.dump(tree,filename)"
      ]
    }
  ],
  "metadata": {
    "colab": {
      "provenance": []
    },
    "kernelspec": {
      "display_name": "Python 3",
      "name": "python3"
    },
    "language_info": {
      "codemirror_mode": {
        "name": "ipython",
        "version": 3
      },
      "file_extension": ".py",
      "mimetype": "text/x-python",
      "name": "python",
      "nbconvert_exporter": "python",
      "pygments_lexer": "ipython3",
      "version": "3.10.2"
    }
  },
  "nbformat": 4,
  "nbformat_minor": 0
}
