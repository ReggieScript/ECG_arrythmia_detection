{
  "nbformat": 4,
  "nbformat_minor": 0,
  "metadata": {
    "colab": {
      "provenance": []
    },
    "kernelspec": {
      "name": "python3",
      "display_name": "Python 3"
    },
    "language_info": {
      "name": "python"
    }
  },
  "cells": [
    {
      "cell_type": "code",
      "source": [
        "!pip install wfdb\n",
        "!pip install py-ecg-detectors\n",
        "!pip install BaselineRemoval"
      ],
      "metadata": {
        "colab": {
          "base_uri": "https://localhost:8080/"
        },
        "id": "D1I_aToIYTCe",
        "outputId": "3ba957f1-ab22-4c61-e5a6-51a724c2fffe"
      },
      "execution_count": null,
      "outputs": [
        {
          "output_type": "stream",
          "name": "stdout",
          "text": [
            "Looking in indexes: https://pypi.org/simple, https://us-python.pkg.dev/colab-wheels/public/simple/\n",
            "Collecting wfdb\n",
            "  Downloading wfdb-4.1.1-py3-none-any.whl (159 kB)\n",
            "\u001b[2K     \u001b[90m━━━━━━━━━━━━━━━━━━━━━━━━━━━━━━━━━━━━━━━\u001b[0m \u001b[32m159.9/159.9 kB\u001b[0m \u001b[31m3.7 MB/s\u001b[0m eta \u001b[36m0:00:00\u001b[0m\n",
            "\u001b[?25hRequirement already satisfied: SoundFile>=0.10.0 in /usr/local/lib/python3.10/dist-packages (from wfdb) (0.12.1)\n",
            "Requirement already satisfied: matplotlib>=3.2.2 in /usr/local/lib/python3.10/dist-packages (from wfdb) (3.7.1)\n",
            "Requirement already satisfied: numpy>=1.10.1 in /usr/local/lib/python3.10/dist-packages (from wfdb) (1.22.4)\n",
            "Requirement already satisfied: pandas>=1.3.0 in /usr/local/lib/python3.10/dist-packages (from wfdb) (1.5.3)\n",
            "Requirement already satisfied: requests>=2.8.1 in /usr/local/lib/python3.10/dist-packages (from wfdb) (2.27.1)\n",
            "Requirement already satisfied: scipy>=1.0.0 in /usr/local/lib/python3.10/dist-packages (from wfdb) (1.10.1)\n",
            "Requirement already satisfied: contourpy>=1.0.1 in /usr/local/lib/python3.10/dist-packages (from matplotlib>=3.2.2->wfdb) (1.0.7)\n",
            "Requirement already satisfied: cycler>=0.10 in /usr/local/lib/python3.10/dist-packages (from matplotlib>=3.2.2->wfdb) (0.11.0)\n",
            "Requirement already satisfied: fonttools>=4.22.0 in /usr/local/lib/python3.10/dist-packages (from matplotlib>=3.2.2->wfdb) (4.39.3)\n",
            "Requirement already satisfied: kiwisolver>=1.0.1 in /usr/local/lib/python3.10/dist-packages (from matplotlib>=3.2.2->wfdb) (1.4.4)\n",
            "Requirement already satisfied: packaging>=20.0 in /usr/local/lib/python3.10/dist-packages (from matplotlib>=3.2.2->wfdb) (23.1)\n",
            "Requirement already satisfied: pillow>=6.2.0 in /usr/local/lib/python3.10/dist-packages (from matplotlib>=3.2.2->wfdb) (8.4.0)\n",
            "Requirement already satisfied: pyparsing>=2.3.1 in /usr/local/lib/python3.10/dist-packages (from matplotlib>=3.2.2->wfdb) (3.0.9)\n",
            "Requirement already satisfied: python-dateutil>=2.7 in /usr/local/lib/python3.10/dist-packages (from matplotlib>=3.2.2->wfdb) (2.8.2)\n",
            "Requirement already satisfied: pytz>=2020.1 in /usr/local/lib/python3.10/dist-packages (from pandas>=1.3.0->wfdb) (2022.7.1)\n",
            "Requirement already satisfied: urllib3<1.27,>=1.21.1 in /usr/local/lib/python3.10/dist-packages (from requests>=2.8.1->wfdb) (1.26.15)\n",
            "Requirement already satisfied: certifi>=2017.4.17 in /usr/local/lib/python3.10/dist-packages (from requests>=2.8.1->wfdb) (2022.12.7)\n",
            "Requirement already satisfied: charset-normalizer~=2.0.0 in /usr/local/lib/python3.10/dist-packages (from requests>=2.8.1->wfdb) (2.0.12)\n",
            "Requirement already satisfied: idna<4,>=2.5 in /usr/local/lib/python3.10/dist-packages (from requests>=2.8.1->wfdb) (3.4)\n",
            "Requirement already satisfied: cffi>=1.0 in /usr/local/lib/python3.10/dist-packages (from SoundFile>=0.10.0->wfdb) (1.15.1)\n",
            "Requirement already satisfied: pycparser in /usr/local/lib/python3.10/dist-packages (from cffi>=1.0->SoundFile>=0.10.0->wfdb) (2.21)\n",
            "Requirement already satisfied: six>=1.5 in /usr/local/lib/python3.10/dist-packages (from python-dateutil>=2.7->matplotlib>=3.2.2->wfdb) (1.16.0)\n",
            "Installing collected packages: wfdb\n",
            "Successfully installed wfdb-4.1.1\n",
            "Looking in indexes: https://pypi.org/simple, https://us-python.pkg.dev/colab-wheels/public/simple/\n",
            "Collecting py-ecg-detectors\n",
            "  Downloading py_ecg_detectors-1.3.4-py3-none-any.whl (25 kB)\n",
            "Collecting gatspy (from py-ecg-detectors)\n",
            "  Downloading gatspy-0.3.tar.gz (554 kB)\n",
            "\u001b[2K     \u001b[90m━━━━━━━━━━━━━━━━━━━━━━━━━━━━━━━━━━━━━━━\u001b[0m \u001b[32m554.5/554.5 kB\u001b[0m \u001b[31m8.0 MB/s\u001b[0m eta \u001b[36m0:00:00\u001b[0m\n",
            "\u001b[?25h  Preparing metadata (setup.py) ... \u001b[?25l\u001b[?25hdone\n",
            "Requirement already satisfied: numpy in /usr/local/lib/python3.10/dist-packages (from py-ecg-detectors) (1.22.4)\n",
            "Requirement already satisfied: pywavelets in /usr/local/lib/python3.10/dist-packages (from py-ecg-detectors) (1.4.1)\n",
            "Requirement already satisfied: scipy in /usr/local/lib/python3.10/dist-packages (from py-ecg-detectors) (1.10.1)\n",
            "Building wheels for collected packages: gatspy\n",
            "  Building wheel for gatspy (setup.py) ... \u001b[?25l\u001b[?25hdone\n",
            "  Created wheel for gatspy: filename=gatspy-0.3-py3-none-any.whl size=43804 sha256=b44842e69be9616255dd57f7baee4a14c5b4d10b256194fda43e6b195a75d7ba\n",
            "  Stored in directory: /root/.cache/pip/wheels/13/39/c2/d113611d276bf55252ed5a640e98596d7dcc96535afbf254d5\n",
            "Successfully built gatspy\n",
            "Installing collected packages: gatspy, py-ecg-detectors\n",
            "Successfully installed gatspy-0.3 py-ecg-detectors-1.3.4\n",
            "Looking in indexes: https://pypi.org/simple, https://us-python.pkg.dev/colab-wheels/public/simple/\n",
            "Collecting BaselineRemoval\n",
            "  Downloading BaselineRemoval-0.1.4-py3-none-any.whl (6.5 kB)\n",
            "Requirement already satisfied: numpy in /usr/local/lib/python3.10/dist-packages (from BaselineRemoval) (1.22.4)\n",
            "Requirement already satisfied: scikit-learn in /usr/local/lib/python3.10/dist-packages (from BaselineRemoval) (1.2.2)\n",
            "Requirement already satisfied: scipy in /usr/local/lib/python3.10/dist-packages (from BaselineRemoval) (1.10.1)\n",
            "Requirement already satisfied: joblib>=1.1.1 in /usr/local/lib/python3.10/dist-packages (from scikit-learn->BaselineRemoval) (1.2.0)\n",
            "Requirement already satisfied: threadpoolctl>=2.0.0 in /usr/local/lib/python3.10/dist-packages (from scikit-learn->BaselineRemoval) (3.1.0)\n",
            "Installing collected packages: BaselineRemoval\n",
            "Successfully installed BaselineRemoval-0.1.4\n"
          ]
        }
      ]
    },
    {
      "cell_type": "code",
      "source": [
        "import pandas as pd\n",
        "import numpy as np\n",
        "import scipy as sci\n",
        "from scipy import signal\n",
        "from google.colab import drive\n",
        "drive.mount('/content/drive')\n",
        "import matplotlib.pyplot as plt\n",
        "import wfdb #library for reading ecg data https://github.com/MIT-LCP/wfdb-python/blob/main/demo.ipynb\n",
        "from ecgdetectors import Detectors # desde https://pypi.org/project/py-ecg-detectors/\n",
        "from hrv import HRV\n",
        "from BaselineRemoval import BaselineRemoval\n",
        "import seaborn as sns"
      ],
      "metadata": {
        "colab": {
          "base_uri": "https://localhost:8080/"
        },
        "id": "Cukyk4UEYDk8",
        "outputId": "1162aad8-d022-4902-d731-1e9baed6042e"
      },
      "execution_count": null,
      "outputs": [
        {
          "output_type": "stream",
          "name": "stdout",
          "text": [
            "Mounted at /content/drive\n"
          ]
        }
      ]
    },
    {
      "cell_type": "code",
      "source": [
        "with open('/content/drive/Shareddrives/Proyecto Final/Progra/CONTROLS') as f:\n",
        "  lines = f.readlines()\n",
        "print(lines)\n"
      ],
      "metadata": {
        "colab": {
          "base_uri": "https://localhost:8080/"
        },
        "id": "vO7V9n_1YuAH",
        "outputId": "771f2d2c-3100-413e-e58c-131cba05fe03"
      },
      "execution_count": null,
      "outputs": [
        {
          "output_type": "stream",
          "name": "stdout",
          "text": [
            "['patient104/s0306lre\\n', 'patient105/s0303lre\\n', 'patient116/s0302lre\\n', 'patient117/s0291lre\\n', 'patient117/s0292lre\\n', 'patient121/s0311lre\\n', 'patient122/s0312lre\\n', 'patient131/s0273lre\\n', 'patient150/s0287lre\\n', 'patient155/s0301lre\\n', 'patient156/s0299lre\\n', 'patient165/s0322lre\\n', 'patient165/s0323lre\\n', 'patient166/s0275lre\\n', 'patient169/s0328lre\\n', 'patient169/s0329lre\\n', 'patient170/s0274lre\\n', 'patient172/s0304lre\\n', 'patient173/s0305lre\\n', 'patient174/s0300lre\\n', 'patient174/s0324lre\\n', 'patient174/s0325lre\\n', 'patient180/s0374lre\\n', 'patient180/s0475_re\\n', 'patient180/s0476_re\\n', 'patient180/s0477_re\\n', 'patient180/s0490_re\\n', 'patient180/s0545_re\\n', 'patient180/s0561_re\\n', 'patient182/s0308lre\\n', 'patient184/s0363lre\\n', 'patient185/s0336lre\\n', 'patient198/s0402lre\\n', 'patient198/s0415lre\\n', 'patient214/s0436_re\\n', 'patient229/s0452_re\\n', 'patient229/s0453_re\\n', 'patient233/s0457_re\\n', 'patient233/s0458_re\\n', 'patient233/s0459_re\\n', 'patient233/s0482_re\\n', 'patient233/s0483_re\\n', 'patient234/s0460_re\\n', 'patient235/s0461_re\\n', 'patient236/s0462_re\\n', 'patient236/s0463_re\\n', 'patient236/s0464_re\\n', 'patient237/s0465_re\\n', 'patient238/s0466_re\\n', 'patient239/s0467_re\\n', 'patient240/s0468_re\\n', 'patient241/s0469_re\\n', 'patient241/s0470_re\\n', 'patient242/s0471_re\\n', 'patient243/s0472_re\\n', 'patient244/s0473_re\\n', 'patient245/s0474_re\\n', 'patient245/s0480_re\\n', 'patient246/s0478_re\\n', 'patient247/s0479_re\\n', 'patient248/s0481_re\\n', 'patient251/s0486_re\\n', 'patient251/s0503_re\\n', 'patient251/s0506_re\\n', 'patient252/s0487_re\\n', 'patient255/s0491_re\\n', 'patient260/s0496_re\\n', 'patient263/s0499_re\\n', 'patient264/s0500_re\\n', 'patient266/s0502_re\\n', 'patient267/s0504_re\\n', 'patient276/s0526_re\\n', 'patient277/s0527_re\\n', 'patient279/s0531_re\\n', 'patient279/s0532_re\\n', 'patient279/s0533_re\\n', 'patient279/s0534_re\\n', 'patient284/s0543_re\\n', 'patient284/s0551_re\\n', 'patient284/s0552_re\\n']\n"
          ]
        }
      ]
    },
    {
      "cell_type": "code",
      "source": [
        "data = {\n",
        "    \n",
        "}\n",
        "\n",
        "baseline = \"/content/drive/Shareddrives/Proyecto Final/Progra/databases/PTB/\"\n",
        "for line in lines:\n",
        "  data_string = line.split(\"/\")\n",
        "  baseline_data = baseline + data_string[0] + \"/\" + data_string[1]\n",
        "  data[data_string[0]] = {}\n",
        "  try:\n",
        "    data[data_string[0]][\"raw_data\"] = record = wfdb.rdrecord(baseline_data.split(\"\\n\")[0])\n",
        "  except:\n",
        "    pass\n",
        "print(data)\n",
        "  "
      ],
      "metadata": {
        "colab": {
          "base_uri": "https://localhost:8080/"
        },
        "id": "xpk1VcEVZAif",
        "outputId": "6b5bc376-b083-4708-98a9-c96e55ac6974"
      },
      "execution_count": null,
      "outputs": [
        {
          "output_type": "stream",
          "name": "stdout",
          "text": [
            "{'patient104': {'raw_data': <wfdb.io.record.Record object at 0x7f494ae5e530>}, 'patient105': {'raw_data': <wfdb.io.record.Record object at 0x7f494ae5cf10>}, 'patient116': {'raw_data': <wfdb.io.record.Record object at 0x7f494bce67a0>}, 'patient117': {'raw_data': <wfdb.io.record.Record object at 0x7f494bce5ff0>}, 'patient121': {'raw_data': <wfdb.io.record.Record object at 0x7f494bce6e60>}, 'patient122': {'raw_data': <wfdb.io.record.Record object at 0x7f494ae5f4f0>}, 'patient131': {'raw_data': <wfdb.io.record.Record object at 0x7f4913939c00>}, 'patient150': {'raw_data': <wfdb.io.record.Record object at 0x7f4913939600>}, 'patient155': {'raw_data': <wfdb.io.record.Record object at 0x7f4913939ba0>}, 'patient156': {'raw_data': <wfdb.io.record.Record object at 0x7f4913939540>}, 'patient165': {'raw_data': <wfdb.io.record.Record object at 0x7f4913939660>}, 'patient166': {}, 'patient169': {'raw_data': <wfdb.io.record.Record object at 0x7f4913939630>}, 'patient170': {'raw_data': <wfdb.io.record.Record object at 0x7f491393a560>}, 'patient172': {}, 'patient173': {'raw_data': <wfdb.io.record.Record object at 0x7f4913939a80>}, 'patient174': {'raw_data': <wfdb.io.record.Record object at 0x7f4913939b70>}, 'patient180': {'raw_data': <wfdb.io.record.Record object at 0x7f49139399f0>}, 'patient182': {'raw_data': <wfdb.io.record.Record object at 0x7f4913939ed0>}, 'patient184': {'raw_data': <wfdb.io.record.Record object at 0x7f4913939ae0>}, 'patient185': {'raw_data': <wfdb.io.record.Record object at 0x7f4913939b10>}, 'patient198': {'raw_data': <wfdb.io.record.Record object at 0x7f49139399c0>}, 'patient214': {'raw_data': <wfdb.io.record.Record object at 0x7f4913939ab0>}, 'patient229': {'raw_data': <wfdb.io.record.Record object at 0x7f49139395d0>}, 'patient233': {'raw_data': <wfdb.io.record.Record object at 0x7f4913939a50>}, 'patient234': {'raw_data': <wfdb.io.record.Record object at 0x7f4913939a20>}, 'patient235': {'raw_data': <wfdb.io.record.Record object at 0x7f4913939930>}, 'patient236': {'raw_data': <wfdb.io.record.Record object at 0x7f49139398d0>}, 'patient237': {'raw_data': <wfdb.io.record.Record object at 0x7f4913939960>}, 'patient238': {'raw_data': <wfdb.io.record.Record object at 0x7f4913939990>}, 'patient239': {'raw_data': <wfdb.io.record.Record object at 0x7f4913939900>}, 'patient240': {'raw_data': <wfdb.io.record.Record object at 0x7f4913939bd0>}, 'patient241': {'raw_data': <wfdb.io.record.Record object at 0x7f491393a590>}, 'patient242': {'raw_data': <wfdb.io.record.Record object at 0x7f4913939810>}, 'patient243': {'raw_data': <wfdb.io.record.Record object at 0x7f49139397e0>}, 'patient244': {'raw_data': <wfdb.io.record.Record object at 0x7f491393a500>}, 'patient245': {'raw_data': <wfdb.io.record.Record object at 0x7f49139398a0>}, 'patient246': {'raw_data': <wfdb.io.record.Record object at 0x7f4913939840>}, 'patient247': {'raw_data': <wfdb.io.record.Record object at 0x7f49139397b0>}, 'patient248': {'raw_data': <wfdb.io.record.Record object at 0x7f49139396c0>}, 'patient251': {'raw_data': <wfdb.io.record.Record object at 0x7f4913939c30>}, 'patient252': {'raw_data': <wfdb.io.record.Record object at 0x7f4913939690>}, 'patient255': {'raw_data': <wfdb.io.record.Record object at 0x7f4913939330>}, 'patient260': {'raw_data': <wfdb.io.record.Record object at 0x7f49139395a0>}, 'patient263': {'raw_data': <wfdb.io.record.Record object at 0x7f4913939780>}, 'patient264': {'raw_data': <wfdb.io.record.Record object at 0x7f4913939750>}, 'patient266': {'raw_data': <wfdb.io.record.Record object at 0x7f4913939270>}, 'patient267': {'raw_data': <wfdb.io.record.Record object at 0x7f49139396f0>}, 'patient276': {'raw_data': <wfdb.io.record.Record object at 0x7f4913939300>}, 'patient277': {'raw_data': <wfdb.io.record.Record object at 0x7f4913939390>}, 'patient279': {'raw_data': <wfdb.io.record.Record object at 0x7f49139391e0>}, 'patient284': {'raw_data': <wfdb.io.record.Record object at 0x7f49139393c0>}}\n"
          ]
        }
      ]
    }
  ]
}