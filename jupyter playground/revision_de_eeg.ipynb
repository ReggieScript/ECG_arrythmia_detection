{
  "cells": [
    {
      "cell_type": "code",
      "execution_count": null,
      "metadata": {
        "colab": {
          "base_uri": "https://localhost:8080/"
        },
        "id": "voV7jgUbbdQ_",
        "outputId": "c1c6c860-57e5-4314-f9d9-814b3635640c"
      },
      "outputs": [],
      "source": [
        "import pandas as pd\n",
        "import numpy as np\n",
        "import scipy as sci\n",
        "from scipy import signal\n",
        "import matplotlib.pyplot as plt\n",
        "from sklearn import model_selection\n",
        "import seaborn as sns\n",
        "import neurokit2 as nk\n",
        "import wfdb #library for reading ecg data https://github.com/MIT-LCP/wfdb-python/blob/main/demo.ipynb\n",
        "import matplotlib.pyplot as plt\n",
        "from matplotlib.widgets import Slider, Button"
      ]
    },
    {
      "cell_type": "code",
      "execution_count": 89,
      "metadata": {
        "colab": {
          "base_uri": "https://localhost:8080/",
          "height": 1000
        },
        "id": "K_YvA8IzaCUF",
        "outputId": "09354534-5745-400b-d9bf-5d4e2350c347"
      },
      "outputs": [
        {
          "name": "stdout",
          "output_type": "stream",
          "text": [
            "{'record_name': '100', 'n_sig': 2, 'fs': 360, 'counter_freq': None, 'base_counter': None, 'sig_len': 650000, 'base_time': None, 'base_date': None, 'comments': ['69 M 1085 1629 x1', 'Aldomet, Inderal'], 'sig_name': ['MLII', 'V5'], 'p_signal': array([[-0.145, -0.065],\n",
            "       [-0.145, -0.065],\n",
            "       [-0.145, -0.065],\n",
            "       ...,\n",
            "       [-0.675, -0.365],\n",
            "       [-0.765, -0.335],\n",
            "       [-1.28 ,  0.   ]]), 'd_signal': None, 'e_p_signal': None, 'e_d_signal': None, 'file_name': ['100.dat', '100.dat'], 'fmt': ['212', '212'], 'samps_per_frame': [1, 1], 'skew': [None, None], 'byte_offset': [None, None], 'adc_gain': [200.0, 200.0], 'baseline': [1024, 1024], 'units': ['mV', 'mV'], 'adc_res': [11, 11], 'adc_zero': [1024, 1024], 'init_value': [995, 1011], 'checksum': [-22131, 20052], 'block_size': [0, 0]}\n",
            "650000\n"
          ]
        },
        {
          "name": "stderr",
          "output_type": "stream",
          "text": [
            "c:\\Users\\reegi\\AppData\\Local\\Programs\\Python\\Python310\\lib\\site-packages\\numpy\\core\\fromnumeric.py:3474: RuntimeWarning: Mean of empty slice.\n",
            "  return _methods._mean(a, axis=axis, dtype=dtype,\n",
            "c:\\Users\\reegi\\AppData\\Local\\Programs\\Python\\Python310\\lib\\site-packages\\numpy\\core\\_methods.py:189: RuntimeWarning: invalid value encountered in double_scalars\n",
            "  ret = ret.dtype.type(ret / rcount)\n",
            "c:\\Users\\reegi\\AppData\\Local\\Programs\\Python\\Python310\\lib\\site-packages\\numpy\\core\\fromnumeric.py:3474: RuntimeWarning: Mean of empty slice.\n",
            "  return _methods._mean(a, axis=axis, dtype=dtype,\n",
            "c:\\Users\\reegi\\AppData\\Local\\Programs\\Python\\Python310\\lib\\site-packages\\numpy\\core\\_methods.py:189: RuntimeWarning: invalid value encountered in double_scalars\n",
            "  ret = ret.dtype.type(ret / rcount)\n"
          ]
        },
        {
          "ename": "KeyError",
          "evalue": "'648000-651600'",
          "output_type": "error",
          "traceback": [
            "\u001b[1;31m---------------------------------------------------------------------------\u001b[0m",
            "\u001b[1;31mKeyError\u001b[0m                                  Traceback (most recent call last)",
            "\u001b[1;32mc:\\Users\\reegi\\Documents\\TEC\\10S\\Proyecto Integrador\\jupyter playground\\revision_de_eeg.ipynb Cell 2\u001b[0m in \u001b[0;36m<cell line: 27>\u001b[1;34m()\u001b[0m\n\u001b[0;32m     <a href='vscode-notebook-cell:/c%3A/Users/reegi/Documents/TEC/10S/Proyecto%20Integrador/jupyter%20playground/revision_de_eeg.ipynb#W2sZmlsZQ%3D%3D?line=34'>35</a>\u001b[0m \u001b[39mtry\u001b[39;00m:\n\u001b[1;32m---> <a href='vscode-notebook-cell:/c%3A/Users/reegi/Documents/TEC/10S/Proyecto%20Integrador/jupyter%20playground/revision_de_eeg.ipynb#W2sZmlsZQ%3D%3D?line=35'>36</a>\u001b[0m   data[\u001b[39mf\u001b[39m\u001b[39m\"\u001b[39m\u001b[39m{\u001b[39;00msample_from\u001b[39m}\u001b[39;00m\u001b[39m-\u001b[39m\u001b[39m{\u001b[39;00msample_to\u001b[39m}\u001b[39;00m\u001b[39m\"\u001b[39m][\u001b[39m\"\u001b[39m\u001b[39mecg_signals\u001b[39m\u001b[39m\"\u001b[39m], data[\u001b[39mf\u001b[39m\u001b[39m\"\u001b[39m\u001b[39m{\u001b[39;00msample_from\u001b[39m}\u001b[39;00m\u001b[39m-\u001b[39m\u001b[39m{\u001b[39;00msample_to\u001b[39m}\u001b[39;00m\u001b[39m\"\u001b[39m][\u001b[39m\"\u001b[39m\u001b[39minfo\u001b[39m\u001b[39m\"\u001b[39m] \u001b[39m=\u001b[39m nk\u001b[39m.\u001b[39mecg_process(data[\u001b[39mf\u001b[39;49m\u001b[39m\"\u001b[39;49m\u001b[39m{\u001b[39;49;00msample_from\u001b[39m}\u001b[39;49;00m\u001b[39m-\u001b[39;49m\u001b[39m{\u001b[39;49;00msample_to\u001b[39m}\u001b[39;49;00m\u001b[39m\"\u001b[39;49m][\u001b[39m\"\u001b[39m\u001b[39mraw_data\u001b[39m\u001b[39m\"\u001b[39m]\u001b[39m.\u001b[39mto_dataframe()[\u001b[39m\"\u001b[39m\u001b[39mMLII\u001b[39m\u001b[39m\"\u001b[39m], sampling_rate\u001b[39m=\u001b[39mfs) \n\u001b[0;32m     <a href='vscode-notebook-cell:/c%3A/Users/reegi/Documents/TEC/10S/Proyecto%20Integrador/jupyter%20playground/revision_de_eeg.ipynb#W2sZmlsZQ%3D%3D?line=36'>37</a>\u001b[0m \u001b[39mexcept\u001b[39;00m:\n",
            "\u001b[1;31mKeyError\u001b[0m: '648000-651600'",
            "\nDuring handling of the above exception, another exception occurred:\n",
            "\u001b[1;31mKeyError\u001b[0m                                  Traceback (most recent call last)",
            "\u001b[1;32mc:\\Users\\reegi\\Documents\\TEC\\10S\\Proyecto Integrador\\jupyter playground\\revision_de_eeg.ipynb Cell 2\u001b[0m in \u001b[0;36m<cell line: 27>\u001b[1;34m()\u001b[0m\n\u001b[0;32m     <a href='vscode-notebook-cell:/c%3A/Users/reegi/Documents/TEC/10S/Proyecto%20Integrador/jupyter%20playground/revision_de_eeg.ipynb#W2sZmlsZQ%3D%3D?line=35'>36</a>\u001b[0m   data[\u001b[39mf\u001b[39m\u001b[39m\"\u001b[39m\u001b[39m{\u001b[39;00msample_from\u001b[39m}\u001b[39;00m\u001b[39m-\u001b[39m\u001b[39m{\u001b[39;00msample_to\u001b[39m}\u001b[39;00m\u001b[39m\"\u001b[39m][\u001b[39m\"\u001b[39m\u001b[39mecg_signals\u001b[39m\u001b[39m\"\u001b[39m], data[\u001b[39mf\u001b[39m\u001b[39m\"\u001b[39m\u001b[39m{\u001b[39;00msample_from\u001b[39m}\u001b[39;00m\u001b[39m-\u001b[39m\u001b[39m{\u001b[39;00msample_to\u001b[39m}\u001b[39;00m\u001b[39m\"\u001b[39m][\u001b[39m\"\u001b[39m\u001b[39minfo\u001b[39m\u001b[39m\"\u001b[39m] \u001b[39m=\u001b[39m nk\u001b[39m.\u001b[39mecg_process(data[\u001b[39mf\u001b[39m\u001b[39m\"\u001b[39m\u001b[39m{\u001b[39;00msample_from\u001b[39m}\u001b[39;00m\u001b[39m-\u001b[39m\u001b[39m{\u001b[39;00msample_to\u001b[39m}\u001b[39;00m\u001b[39m\"\u001b[39m][\u001b[39m\"\u001b[39m\u001b[39mraw_data\u001b[39m\u001b[39m\"\u001b[39m]\u001b[39m.\u001b[39mto_dataframe()[\u001b[39m\"\u001b[39m\u001b[39mMLII\u001b[39m\u001b[39m\"\u001b[39m], sampling_rate\u001b[39m=\u001b[39mfs) \n\u001b[0;32m     <a href='vscode-notebook-cell:/c%3A/Users/reegi/Documents/TEC/10S/Proyecto%20Integrador/jupyter%20playground/revision_de_eeg.ipynb#W2sZmlsZQ%3D%3D?line=36'>37</a>\u001b[0m \u001b[39mexcept\u001b[39;00m:\n\u001b[1;32m---> <a href='vscode-notebook-cell:/c%3A/Users/reegi/Documents/TEC/10S/Proyecto%20Integrador/jupyter%20playground/revision_de_eeg.ipynb#W2sZmlsZQ%3D%3D?line=37'>38</a>\u001b[0m   data[\u001b[39mf\u001b[39m\u001b[39m\"\u001b[39m\u001b[39m{\u001b[39;00msample_from\u001b[39m}\u001b[39;00m\u001b[39m-\u001b[39m\u001b[39m{\u001b[39;00msample_to\u001b[39m}\u001b[39;00m\u001b[39m\"\u001b[39m][\u001b[39m\"\u001b[39m\u001b[39mecg_signals\u001b[39m\u001b[39m\"\u001b[39m], data[\u001b[39mf\u001b[39m\u001b[39m\"\u001b[39m\u001b[39m{\u001b[39;00msample_from\u001b[39m}\u001b[39;00m\u001b[39m-\u001b[39m\u001b[39m{\u001b[39;00msample_to\u001b[39m}\u001b[39;00m\u001b[39m\"\u001b[39m][\u001b[39m\"\u001b[39m\u001b[39minfo\u001b[39m\u001b[39m\"\u001b[39m] \u001b[39m=\u001b[39m nk\u001b[39m.\u001b[39mecg_process(data[\u001b[39mf\u001b[39;49m\u001b[39m\"\u001b[39;49m\u001b[39m{\u001b[39;49;00msample_from\u001b[39m}\u001b[39;49;00m\u001b[39m-\u001b[39;49m\u001b[39m{\u001b[39;49;00msample_to\u001b[39m}\u001b[39;49;00m\u001b[39m\"\u001b[39;49m][\u001b[39m\"\u001b[39m\u001b[39mraw_data\u001b[39m\u001b[39m\"\u001b[39m]\u001b[39m.\u001b[39mto_dataframe()[\u001b[39m\"\u001b[39m\u001b[39mV2\u001b[39m\u001b[39m\"\u001b[39m], sampling_rate\u001b[39m=\u001b[39mfs) \n\u001b[0;32m     <a href='vscode-notebook-cell:/c%3A/Users/reegi/Documents/TEC/10S/Proyecto%20Integrador/jupyter%20playground/revision_de_eeg.ipynb#W2sZmlsZQ%3D%3D?line=38'>39</a>\u001b[0m time\u001b[39m+\u001b[39m\u001b[39m=\u001b[39m\u001b[39m10\u001b[39m\n\u001b[0;32m     <a href='vscode-notebook-cell:/c%3A/Users/reegi/Documents/TEC/10S/Proyecto%20Integrador/jupyter%20playground/revision_de_eeg.ipynb#W2sZmlsZQ%3D%3D?line=39'>40</a>\u001b[0m \u001b[39mif\u001b[39;00m (time\u001b[39m+\u001b[39m\u001b[39m10\u001b[39m)\u001b[39m*\u001b[39mfs \u001b[39m>\u001b[39m n_samples\u001b[39m*\u001b[39mfs:\n",
            "\u001b[1;31mKeyError\u001b[0m: '648000-651600'"
          ]
        },
        {
          "data": {
            "image/png": "[encoded data removed]",
            "text/plain": [
              "<Figure size 432x288 with 3 Axes>"
            ]
          },
          "metadata": {
            "needs_background": "light"
          },
          "output_type": "display_data"
        }
      ],
      "source": [
        "#Datos con arrythmia\n",
        "data = {\n",
        "    \n",
        "}\n",
        "\n",
        "baseline_data = r\"G:\\Shared drives\\Proyecto Final\\Progra\\databases\\MIT Arrythmia\\100\"\n",
        "\n",
        "fs = 360\n",
        "time = 10  #se utilizara desde el segundo 10 para eviar el ruido inicial de los primeros readings\n",
        "sample_from = time * fs\n",
        "sample_to = 20*fs # 5s de sampleo\n",
        "\n",
        "full_record = record = wfdb.rdrecord(baseline_data)\n",
        "full_record_data = full_record.__dict__\n",
        "print(full_record_data)\n",
        "n_samples = full_record_data['sig_len']\n",
        "print(n_samples)\n",
        "try:\n",
        "  ecg, info = nk.ecg_process(full_record.to_dataframe()['MLII'], sampling_rate = fs)\n",
        "except:\n",
        "  ecg, info = nk.ecg_process(full_record.to_dataframe()['V2'], sampling_rate = fs)\n",
        "\n",
        "nk.ecg_plot(ecg, sampling_rate=fs)\n",
        "\n",
        "\n",
        "x= True\n",
        "while x == True:\n",
        "  try:\n",
        "    sample_from = time * fs\n",
        "    sample_to = (time+10)*fs # 10s de sampleo\n",
        "    data[f\"{sample_from}-{sample_to}\"] = {}\n",
        "    data[f\"{sample_from}-{sample_to}\"][f\"raw_data\"] = record = wfdb.rdrecord(baseline_data, sampfrom = sample_from, sampto = sample_to)\n",
        "  except:\n",
        "    data.pop(f\"{sample_from}-{sample_to}\") \n",
        "  try:\n",
        "    data[f\"{sample_from}-{sample_to}\"][\"ecg_signals\"], data[f\"{sample_from}-{sample_to}\"][\"info\"] = nk.ecg_process(data[f\"{sample_from}-{sample_to}\"][\"raw_data\"].to_dataframe()[\"MLII\"], sampling_rate=fs) \n",
        "  except:\n",
        "    data[f\"{sample_from}-{sample_to}\"][\"ecg_signals\"], data[f\"{sample_from}-{sample_to}\"][\"info\"] = nk.ecg_process(data[f\"{sample_from}-{sample_to}\"][\"raw_data\"].to_dataframe()[\"V2\"], sampling_rate=fs) \n",
        "  time+=10\n",
        "  if (time+10)*fs > n_samples*fs:\n",
        "    print(\"hey!\")\n",
        "    x = False\n",
        "\n",
        "data"
      ]
    },
    {
      "cell_type": "code",
      "execution_count": null,
      "metadata": {
        "colab": {
          "base_uri": "https://localhost:8080/",
          "height": 447
        },
        "id": "XVvR9KaBs1gq",
        "outputId": "6f649451-e937-4bef-c6aa-9afefa542ba9"
      },
      "outputs": [],
      "source": [
        "ecg[\"ECG_Raw\"].plot()"
      ]
    },
    {
      "cell_type": "code",
      "execution_count": null,
      "metadata": {
        "colab": {
          "base_uri": "https://localhost:8080/",
          "height": 1000
        },
        "id": "Iv5VOZq1bb2k",
        "outputId": "6219ee1c-c3d2-4532-8c11-b43cbf08c68d"
      },
      "outputs": [],
      "source": [
        "#Para cargar datos sin arrythmia\n",
        "data = {\n",
        "    \n",
        "}\n",
        "\n",
        "baseline_data = r\"G:\\Shared drives\\Proyecto Final\\Progra\\databases\\PTB\\patient116\\s0302lre\"\n",
        "\n",
        "fs = 1000\n",
        "time = 10  #se utilizara desde el segundo 10 para eviar el ruido inicial de los primeros readings\n",
        "sample_from = time * fs\n",
        "sample_to = 20*fs # 5s de sampleo\n",
        "\n",
        "full_record = record = wfdb.rdrecord(baseline_data, sampfrom = sample_from, sampto = sample_to)\n",
        "full_record_data = full_record.__dict__\n",
        "print(full_record_data)\n",
        "n_samples = full_record_data['sig_len']\n",
        "print(n_samples)\n",
        "ecg, info = nk.ecg_process(full_record.to_dataframe()['ii'], sampling_rate = fs)\n",
        "nk.ecg_plot(ecg, sampling_rate=fs)\n",
        "\n",
        "\n",
        "x= True\n",
        "while x == True:\n",
        "  try:\n",
        "    sample_from = time * fs\n",
        "    sample_to = (time+10)*fs # 10s de sampleo\n",
        "    data[f\"{sample_from}-{sample_to}\"] = {}\n",
        "    data[f\"{sample_from}-{sample_to}\"][f\"raw_data\"] = record = wfdb.rdrecord(baseline_data, sampfrom = sample_from, sampto = sample_to)\n",
        "  except:\n",
        "    data.pop(f\"{sample_from}-{sample_to}\") \n",
        "  try:\n",
        "    data[f\"{sample_from}-{sample_to}\"][\"ecg_signals\"], data[f\"{sample_from}-{sample_to}\"][\"info\"] = nk.ecg_process(data[f\"{sample_from}-{sample_to}\"][\"raw_data\"].to_dataframe()[\"ii\"], sampling_rate=fs) \n",
        "  except:\n",
        "    pass\n",
        "  time+=10\n",
        "  if (time+10)*fs > n_samples*fs:\n",
        "    print(\"hey!\")\n",
        "    x = False\n",
        "\n",
        "data\n"
      ]
    },
    {
      "cell_type": "code",
      "execution_count": null,
      "metadata": {
        "colab": {
          "base_uri": "https://localhost:8080/"
        },
        "id": "gEIvQGyXvWmi",
        "outputId": "1094893b-89c1-4f1b-bc88-c388cfa53d51"
      },
      "outputs": [],
      "source": [
        "print(data)\n",
        "for item in data:\n",
        "  for feature in data[item]['ecg_signals']:\n",
        "    data[item][feature] = data[item]['ecg_signals'][feature]"
      ]
    },
    {
      "cell_type": "code",
      "execution_count": null,
      "metadata": {
        "colab": {
          "base_uri": "https://localhost:8080/",
          "height": 1000
        },
        "id": "Besqn2Gzt07M",
        "outputId": "4212e383-aad6-4d82-f816-ab6172e35711"
      },
      "outputs": [],
      "source": [
        "data_df = pd.DataFrame.from_dict(data, orient= 'index')\n",
        "data_df"
      ]
    },
    {
      "cell_type": "code",
      "execution_count": null,
      "metadata": {
        "id": "itwjVuBuwQEi"
      },
      "outputs": [],
      "source": [
        "ecg_signal_data = ['ECG_P_Peaks', 'ECG_Q_Peaks', 'ECG_S_Peaks', 'ECG_T_Peaks', 'ECG_R_Peaks']\n",
        "\n",
        "def dataAdquisition(data,fs):\n",
        "  for item in data:\n",
        "    peaks, info = nk.ecg_peaks(data[item][\"ecg_signals\"][\"ECG_Clean\"], sampling_rate=fs)\n",
        "    # data[item][\"r_peaks\"] = data[item][e]\n",
        "    data[item][\"hrv_time\"] = nk.hrv_time(peaks, sampling_rate=fs, show=False)\n",
        "    for var in data[item][\"hrv_time\"]:\n",
        "      data[item][var] = data[item][\"hrv_time\"][var].to_frame().iloc[0][var]\n",
        "    for feature in ecg_signal_data:\n",
        "      data[item][feature] = data[item][\"ecg_signals\"][feature].sum()\n",
        "    data[item][\"mean_quality\"]  = data[item][\"ecg_signals\"][\"ECG_Quality\"].mean()\n",
        "\n",
        "\n",
        "  return data"
      ]
    },
    {
      "cell_type": "code",
      "execution_count": null,
      "metadata": {
        "id": "47rXEfKSxgjr"
      },
      "outputs": [],
      "source": [
        "control_data_clean = dataAdquisition(data, fs)"
      ]
    },
    {
      "cell_type": "code",
      "execution_count": null,
      "metadata": {
        "id": "bHfBKKiaxjK1"
      },
      "outputs": [],
      "source": [
        "#sin arrythmia\n",
        "# for item in control_data_clean:\n",
        "#   dict_data = control_data_clean[item][\"raw_data\"].__dict__\n",
        "#   control_data_clean[item][\"sex\"] = dict_data['comments'][1].replace('sex: ', '')\n",
        "#   control_data_clean[item][\"age\"] = dict_data['comments'][0].replace('age: ', '')"
      ]
    },
    {
      "cell_type": "code",
      "execution_count": null,
      "metadata": {
        "id": "lBi1U1I7xxhf"
      },
      "outputs": [],
      "source": [
        "# #sin arrythmia\n",
        "# control_data_df = pd.DataFrame.from_dict(control_data_clean, orient = 'index')\n",
        "# control_data_df = control_data_df.join(pd.get_dummies(control_data_df[\"sex\"])).drop(\"sex\", axis = 1)"
      ]
    },
    {
      "cell_type": "code",
      "execution_count": null,
      "metadata": {
        "id": "dT9jU3kmdSG-"
      },
      "outputs": [],
      "source": [
        "#Revisar el codigo sin esto\n",
        "\n",
        "#arrythmia\n",
        "# for item in control_data_clean:\n",
        "#   dict_data = control_data_clean[item][\"raw_data\"].__dict__\n",
        "#   control_data_clean[item][\"sex\"] = dict_data['comments'][0].split(' ')[1]\n",
        "#   control_data_clean[item][\"age\"] = dict_data['comments'][0].split(' ')[0]\n",
        "\n",
        "control_data_df = pd.DataFrame.from_dict(control_data_clean, orient = 'index')\n",
        "# control_data_df = control_data_df.join(pd.get_dummies(control_data_df[\"sex\"])).drop(\"sex\", axis = 1)"
      ]
    },
    {
      "cell_type": "code",
      "execution_count": null,
      "metadata": {},
      "outputs": [],
      "source": [
        "control_data_df"
      ]
    },
    {
      "cell_type": "code",
      "execution_count": null,
      "metadata": {
        "id": "DcD0jNa0gouL"
      },
      "outputs": [],
      "source": [
        "control_data_df = control_data_df[control_data_df[\"mean_quality\"]>0.5]"
      ]
    },
    {
      "cell_type": "code",
      "execution_count": null,
      "metadata": {},
      "outputs": [],
      "source": [
        "control_data_df"
      ]
    },
    {
      "cell_type": "code",
      "execution_count": null,
      "metadata": {
        "id": "sQEff6DYxwTi"
      },
      "outputs": [],
      "source": [
        "control_data_df.drop(columns = ['HRV_SDANN1', 'HRV_SDNNI1', 'HRV_SDANN2','HRV_SDNNI2', 'HRV_SDANN5', 'HRV_SDNNI5'], inplace = True)\n"
      ]
    },
    {
      "cell_type": "code",
      "execution_count": null,
      "metadata": {
        "colab": {
          "base_uri": "https://localhost:8080/"
        },
        "id": "F_PdVTJ9yJTV",
        "outputId": "5c62d5ca-413d-4128-831d-0f2cce3a775d"
      },
      "outputs": [],
      "source": [
        "control_data_clean"
      ]
    },
    {
      "attachments": {},
      "cell_type": "markdown",
      "metadata": {
        "id": "UO6ujP7hySfC"
      },
      "source": [
        "# momento de predicciones"
      ]
    },
    {
      "cell_type": "code",
      "execution_count": null,
      "metadata": {
        "colab": {
          "base_uri": "https://localhost:8080/"
        },
        "id": "yXWnG8C8UBsO",
        "outputId": "0dd9480c-c11f-4838-caf9-45c3465df983"
      },
      "outputs": [],
      "source": [
        "control_data_df.columns"
      ]
    },
    {
      "cell_type": "code",
      "execution_count": null,
      "metadata": {
        "colab": {
          "base_uri": "https://localhost:8080/",
          "height": 581
        },
        "id": "fMGwkhjbyRs1",
        "outputId": "edebc159-690d-43e5-a560-2252777f250d"
      },
      "outputs": [],
      "source": [
        "drop_list=['HRV_MeanNN', 'HRV_SDNN', 'HRV_RMSSD', 'HRV_SDSD', 'HRV_CVNN',\n",
        "       'HRV_CVSD', 'HRV_MedianNN', 'HRV_MadNN', 'HRV_MCVNN', 'HRV_IQRNN',\n",
        "       'HRV_Prc20NN', 'HRV_Prc80NN', 'HRV_pNN50', 'HRV_pNN20', 'HRV_MinNN',\n",
        "       'HRV_MaxNN', 'HRV_HTI', 'HRV_TINN', 'ECG_P_Peaks', 'ECG_Q_Peaks',\n",
        "       'ECG_S_Peaks', 'ECG_T_Peaks', 'ECG_R_Peaks', 'age',\n",
        "       'ratio p/r peaks', 'ratio q/r peaks', 'ratio s/r peaks',\n",
        "       'ratio t/r peaks']\n",
        "for item in control_data_df.columns:\n",
        "    if item not in drop_list:\n",
        "      control_data_df.drop(columns = [item], inplace = True)\n",
        "\n",
        "control_data_df"
      ]
    },
    {
      "attachments": {},
      "cell_type": "markdown",
      "metadata": {
        "id": "MuXPeZHezxeQ"
      },
      "source": [
        "\\"
      ]
    },
    {
      "cell_type": "code",
      "execution_count": null,
      "metadata": {
        "colab": {
          "base_uri": "https://localhost:8080/",
          "height": 596
        },
        "id": "9DLX28AIzQzC",
        "outputId": "7c237629-49fb-47c7-c821-0ca6dfbcec2b"
      },
      "outputs": [],
      "source": [
        "data_ml = control_data_df\n",
        "data_ml[\"ratio p/r peaks\"] = data_ml[\"ECG_P_Peaks\"].div(data_ml[\"ECG_R_Peaks\"])\n",
        "data_ml[\"ratio q/r peaks\"] = data_ml[\"ECG_Q_Peaks\"].div(data_ml[\"ECG_R_Peaks\"])\n",
        "data_ml[\"ratio s/r peaks\"] = data_ml[\"ECG_S_Peaks\"].div(data_ml[\"ECG_R_Peaks\"])\n",
        "data_ml[\"ratio t/r peaks\"] = data_ml[\"ECG_T_Peaks\"].div(data_ml[\"ECG_R_Peaks\"])\n",
        "data_ml\n"
      ]
    },
    {
      "cell_type": "code",
      "execution_count": null,
      "metadata": {
        "colab": {
          "base_uri": "https://localhost:8080/"
        },
        "id": "cJVg3JjU1lp_",
        "outputId": "0e2b536a-f1b2-4c61-8471-6bd17e7018e6"
      },
      "outputs": [],
      "source": [
        "data_ml.columns"
      ]
    },
    {
      "cell_type": "code",
      "execution_count": null,
      "metadata": {
        "colab": {
          "base_uri": "https://localhost:8080/",
          "height": 1000
        },
        "id": "iysMaaM12lFr",
        "outputId": "efbf2728-5df8-45db-b009-9ef16f9d6968"
      },
      "outputs": [],
      "source": [
        "all_columns = ['HRV_MeanNN', 'HRV_SDNN', 'HRV_RMSSD', 'HRV_SDSD', 'HRV_CVNN',\n",
        "       'HRV_CVSD', 'HRV_MedianNN', 'HRV_MadNN', 'HRV_MCVNN', 'HRV_IQRNN',\n",
        "       'HRV_Prc20NN', 'HRV_Prc80NN', 'HRV_pNN50', 'HRV_pNN20', 'HRV_MinNN',\n",
        "       'HRV_MaxNN', 'HRV_HTI', 'HRV_TINN', 'ECG_P_Peaks', 'ECG_Q_Peaks',\n",
        "       'ECG_S_Peaks', 'ECG_T_Peaks', 'age', 'ECG_R_Peaks',\n",
        "       'ratio p/r peaks', 'ratio q/r peaks', 'ratio s/r peaks',\n",
        "       'ratio t/r peaks']\n",
        "for item in data_ml:\n",
        "  if item in all_columns:\n",
        "    print(item)\n",
        "  else:\n",
        "    data_ml.drop(columns = [item], inplace = True)\n",
        "data_ml"
      ]
    },
    {
      "cell_type": "code",
      "execution_count": null,
      "metadata": {
        "id": "7IHgRGmA3spC"
      },
      "outputs": [],
      "source": [
        "final_df = pd.DataFrame()\n",
        "for item in drop_list:\n",
        "  final_df[item]=data_ml[item]\n"
      ]
    },
    {
      "cell_type": "code",
      "execution_count": null,
      "metadata": {
        "id": "6gS7hpWyoGAK"
      },
      "outputs": [],
      "source": [
        "final_df.drop(columns = \"age\", inplace = True)"
      ]
    },
    {
      "cell_type": "code",
      "execution_count": null,
      "metadata": {},
      "outputs": [],
      "source": [
        "print(len(final_df))"
      ]
    },
    {
      "cell_type": "code",
      "execution_count": null,
      "metadata": {
        "colab": {
          "base_uri": "https://localhost:8080/",
          "height": 397
        },
        "id": "1JjCe5DZ3RQx",
        "outputId": "eb7d58d1-6d6f-4205-d151-653f2e2fd51e"
      },
      "outputs": [],
      "source": [
        "import joblib\n",
        "filename = r'C:\\Users\\reegi\\Documents\\TEC\\10S\\Proyecto Integrador\\modelo_logreg.joblib'\n",
        "\n",
        "loaded_model = joblib.load(filename)\n",
        "result = loaded_model.predict(final_df).tolist()\n",
        "print(result)"
      ]
    },
    {
      "cell_type": "code",
      "execution_count": null,
      "metadata": {},
      "outputs": [],
      "source": []
    },
    {
      "cell_type": "code",
      "execution_count": null,
      "metadata": {},
      "outputs": [],
      "source": [
        "print(result.count(1))"
      ]
    },
    {
      "cell_type": "code",
      "execution_count": null,
      "metadata": {
        "id": "9hu19_bnqIcR"
      },
      "outputs": [],
      "source": [
        "len(result)"
      ]
    },
    {
      "cell_type": "code",
      "execution_count": null,
      "metadata": {
        "id": "LrvTVmDtouv8"
      },
      "outputs": [],
      "source": [
        "final_df[\"arrythmia\"]= result"
      ]
    },
    {
      "cell_type": "code",
      "execution_count": null,
      "metadata": {
        "id": "1nfX4uGUp6RJ"
      },
      "outputs": [],
      "source": [
        "final_df.to_csv(\"final.csv\")"
      ]
    },
    {
      "attachments": {},
      "cell_type": "markdown",
      "metadata": {
        "id": "G2MYkm8N4Hre"
      },
      "source": [
        "El modelo se equivoco tres veces. :("
      ]
    },
    {
      "cell_type": "code",
      "execution_count": null,
      "metadata": {
        "id": "_JLzk1vF4LDN"
      },
      "outputs": [],
      "source": [
        "abnormality_per = result.count(1)/result.count(0)\n",
        "print(abnormality_per)"
      ]
    }
  ],
  "metadata": {
    "colab": {
      "provenance": []
    },
    "kernelspec": {
      "display_name": "Python 3",
      "name": "python3"
    },
    "language_info": {
      "codemirror_mode": {
        "name": "ipython",
        "version": 3
      },
      "file_extension": ".py",
      "mimetype": "text/x-python",
      "name": "python",
      "nbconvert_exporter": "python",
      "pygments_lexer": "ipython3",
      "version": "3.10.2"
    }
  },
  "nbformat": 4,
  "nbformat_minor": 0
}
